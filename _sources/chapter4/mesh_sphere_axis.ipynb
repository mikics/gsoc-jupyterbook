{
 "cells": [
  {
   "cell_type": "code",
   "execution_count": null,
   "id": "55a2d900",
   "metadata": {},
   "outputs": [],
   "source": [
    "import sys"
   ]
  },
  {
   "cell_type": "code",
   "execution_count": null,
   "id": "21ea27cf",
   "metadata": {},
   "outputs": [],
   "source": [
    "try:\n",
    "    import gmsh\n",
    "except ModuleNotFoundError:\n",
    "    print(\"This demo requires gmsh to be installed\")\n",
    "    sys.exit(0)"
   ]
  },
  {
   "cell_type": "code",
   "execution_count": null,
   "id": "1d862878",
   "metadata": {},
   "outputs": [],
   "source": [
    "from numpy import pi"
   ]
  },
  {
   "cell_type": "code",
   "execution_count": null,
   "id": "3aa65377",
   "metadata": {},
   "outputs": [],
   "source": [
    "from mpi4py import MPI"
   ]
  },
  {
   "cell_type": "code",
   "execution_count": null,
   "id": "860f37ab",
   "metadata": {},
   "outputs": [],
   "source": [
    "def generate_mesh_sphere_axis(radius_sph, radius_scatt, radius_dom, radius_pml,\n",
    "                              in_sph_size, on_sph_size, scatt_size, pml_size,\n",
    "                              au_tag, bkg_tag, pml_tag, scatt_tag):\n",
    "\n",
    "    gmsh.initialize(sys.argv)\n",
    "    if MPI.COMM_WORLD.rank == 0:\n",
    "\n",
    "        gmsh.model.add(\"geometry\")\n",
    "\n",
    "        gmsh.model.occ.addCircle(\n",
    "            0, 0, 0, radius_sph * 0.5, angle1=-pi / 2, angle2=pi / 2, tag=1)\n",
    "        gmsh.model.occ.addCircle(\n",
    "            0, 0, 0, radius_sph, angle1=-pi / 2, angle2=pi / 2, tag=2)\n",
    "        gmsh.model.occ.addCircle(\n",
    "            0, 0, 0, radius_scatt, angle1=-pi / 2, angle2=pi / 2, tag=3)\n",
    "        gmsh.model.occ.addCircle(\n",
    "            0, 0, 0, radius_dom, angle1=-pi / 2, angle2=pi / 2, tag=4)\n",
    "        gmsh.model.occ.addCircle(\n",
    "            0, 0, 0, radius_dom + radius_pml, angle1=-pi / 2, angle2=pi / 2,\n",
    "            tag=5)\n",
    "\n",
    "        gmsh.model.occ.addLine(10, 8, tag=6)\n",
    "        gmsh.model.occ.addLine(8, 6, tag=7)\n",
    "        gmsh.model.occ.addLine(6, 4, tag=8)\n",
    "        gmsh.model.occ.addLine(4, 2, tag=9)\n",
    "        gmsh.model.occ.addLine(2, 1, tag=10)\n",
    "        gmsh.model.occ.addLine(1, 3, tag=11)\n",
    "        gmsh.model.occ.addLine(3, 5, tag=12)\n",
    "        gmsh.model.occ.addLine(5, 7, tag=13)\n",
    "        gmsh.model.occ.addLine(7, 9, tag=14)\n",
    "\n",
    "        gmsh.model.occ.addCurveLoop([10, 1], tag=1)\n",
    "        gmsh.model.occ.addPlaneSurface([1], tag=1)\n",
    "        gmsh.model.occ.addCurveLoop([11, 2, 9, -1], tag=2)\n",
    "        gmsh.model.occ.addPlaneSurface([2], tag=2)\n",
    "        gmsh.model.occ.addCurveLoop([8, -2, 12, 3], tag=3)\n",
    "        gmsh.model.occ.addPlaneSurface([3], tag=3)\n",
    "        gmsh.model.occ.addCurveLoop([13, 4, 7, -3], tag=4)\n",
    "        gmsh.model.occ.addPlaneSurface([4], tag=4)\n",
    "        gmsh.model.occ.addCurveLoop([4, -6, -5, -14], tag=5)\n",
    "        gmsh.model.occ.addPlaneSurface([5], tag=5)\n",
    "\n",
    "        gmsh.model.occ.synchronize()\n",
    "\n",
    "        gmsh.model.addPhysicalGroup(2, [1, 2], tag=au_tag)\n",
    "        gmsh.model.addPhysicalGroup(2, [3, 4], tag=bkg_tag)\n",
    "        gmsh.model.addPhysicalGroup(2, [5], tag=pml_tag)\n",
    "        gmsh.model.addPhysicalGroup(1, [3], tag=scatt_tag)\n",
    "\n",
    "        gmsh.model.mesh.setSize([(0, 1)], size=in_sph_size)\n",
    "        gmsh.model.mesh.setSize([(0, 2)], size=in_sph_size)\n",
    "        gmsh.model.mesh.setSize([(0, 3)], size=on_sph_size)\n",
    "        gmsh.model.mesh.setSize([(0, 4)], size=on_sph_size)\n",
    "        gmsh.model.mesh.setSize([(0, 5)], size=scatt_size)\n",
    "        gmsh.model.mesh.setSize([(0, 6)], size=scatt_size)\n",
    "        gmsh.model.mesh.setSize([(0, 7)], size=pml_size)\n",
    "        gmsh.model.mesh.setSize([(0, 8)], size=pml_size)\n",
    "        gmsh.model.mesh.setSize([(0, 9)], size=pml_size)\n",
    "        gmsh.model.mesh.setSize([(0, 10)], size=pml_size)\n",
    "\n",
    "        gmsh.model.mesh.generate(2)\n",
    "\n",
    "        return gmsh.model"
   ]
  }
 ],
 "metadata": {
  "jupytext": {
   "formats": "ipynb,py:light"
  },
    "kernelspec": {
   "display_name": "Python 3 (DOLFINx complex)",
   "language": "python",
   "name": "python3-complex"
  },
  "language_info": {
   "codemirror_mode": {
    "name": "ipython",
    "version": 3
   },
   "file_extension": ".py",
   "mimetype": "text/x-python",
   "name": "python",
   "nbconvert_exporter": "python",
   "pygments_lexer": "ipython3",
   "version": "3.10.4"
  }
 },
 "nbformat": 4,
 "nbformat_minor": 5
}
