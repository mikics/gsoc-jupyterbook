{
 "cells": [
  {
   "cell_type": "markdown",
   "id": "82555cfb",
   "metadata": {},
   "source": [
    "## Analytical solutions for the half-loaded waveguide\n",
    "\n",
    "The analytical solutions for the half-loaded waveguide\n",
    "with perfect electric conducting walls are\n",
    "described in Harrington's *Time-harmonic electromagnetic fields*.\n",
    "We will skip the full derivation, and we just mention that\n",
    "the problem can be decoupled into $\\mathrm{TE}_x$ and\n",
    "$\\mathrm{TM}_x$ modes, and the possible $k_z$ can be found by\n",
    "solving a set of transcendental equations, which is shown here below:\n",
    "\n",
    "\n",
    "$$\n",
    "\\begin{aligned}\n",
    "\\textrm{For TE}_x \\textrm{ modes}:\n",
    "\\begin{cases}\n",
    "&k_{x d}^{2}+\\left(\\frac{n \\pi}{b}\\right)^{2}+k_{z}^{2}=k_0^{2}\n",
    "\\varepsilon_{d} \\\\\n",
    "&k_{x v}^{2}+\\left(\\frac{n \\pi}{b}\\right)^{2}+k_{z}^{2}=k_0^{2}\n",
    "\\varepsilon_{v} \\\\\n",
    "& k_{x d} \\cot k_{x d} d + k_{x v} \\cot \\left[k_{x v}(h-d)\\right] = 0\n",
    "\\end{cases}\n",
    "\\end{aligned}\n",
    "$$\n",
    "\n",
    "$$\n",
    "\\begin{aligned}\n",
    "\\textrm{For TM}_x \\textrm{ modes}:\n",
    "\\begin{cases}\n",
    "&k_{x d}^{2}+\\left(\\frac{n \\pi}{b}\\right)^{2}+k_{z}^{2}=\n",
    "k_0^{2} \\varepsilon_{d} \\\\\n",
    "&k_{x v}^{2}+\\left(\\frac{n \\pi}{b}\\right)^{2}+k_{z}^{2}=\n",
    "k_0^{2} \\varepsilon_{v} \\\\\n",
    "& \\frac{k_{x d}}{\\varepsilon_{d}} \\tan k_{x d} d +\n",
    "\\frac{k_{x v}}{\\varepsilon_{v}} \\tan \\left[k_{x v}(h-d)\\right] = 0\n",
    "\\end{cases}\n",
    "\\end{aligned}\n",
    "$$\n",
    "\n",
    "with:\n",
    "- $\\varepsilon_d\\rightarrow$ dielectric permittivity\n",
    "- $\\varepsilon_v\\rightarrow$ vacuum permittivity\n",
    "- $h\\rightarrow$ height of the waveguide\n",
    "- $d\\rightarrow$ height of the dielectric\n",
    "- $k_0\\rightarrow$ vacuum wavevector\n",
    "- $k_{xd}\\rightarrow$ $x$ component of the wavevector in the dielectric\n",
    "- $k_{xv}\\rightarrow$ $x$ component of the wavevector in the vacuum\n",
    "- $\\frac{n \\pi}{b} = k_y\\rightarrow$ $y$ component of the wavevector for\n",
    "different $n$ harmonic numbers\n",
    "\n",
    "Let's define the set of equations with the $\\tan$ and $\\cot$ function:"
   ]
  },
  {
   "cell_type": "code",
   "execution_count": null,
   "id": "91c673be",
   "metadata": {},
   "outputs": [],
   "source": [
    "import numpy as np"
   ]
  },
  {
   "cell_type": "code",
   "execution_count": null,
   "id": "82f12a8b",
   "metadata": {},
   "outputs": [],
   "source": [
    "def TMx_condition(kx_d, kx_v, eps_d, eps_v, d, h):\n",
    "    return (kx_d / eps_d * np.tan(kx_d * d)\n",
    "            + kx_v / eps_v * np.tan(kx_v * (h - d)))"
   ]
  },
  {
   "cell_type": "code",
   "execution_count": null,
   "id": "c66c7d1d",
   "metadata": {},
   "outputs": [],
   "source": [
    "def TEx_condition(kx_d, kx_v, d, h):\n",
    "    return kx_d / np.tan(kx_d * d) + kx_v / np.tan(kx_v * (h - d))"
   ]
  },
  {
   "cell_type": "markdown",
   "id": "31559983",
   "metadata": {
    "lines_to_next_cell": 2
   },
   "source": [
    "Then, we can define the `verify_mode` function, to check whether a certain\n",
    "$k_z$ satisfy the equations (below a certain threshold):"
   ]
  },
  {
   "cell_type": "code",
   "execution_count": null,
   "id": "963a2db8",
   "metadata": {},
   "outputs": [],
   "source": [
    "def verify_mode(\n",
    "        kz, w, h, d, lmbd0, eps_d, eps_v, threshold):\n",
    "\n",
    "    k0 = 2 * np.pi / lmbd0\n",
    "\n",
    "    n = 1\n",
    "    ky = n * np.pi / w\n",
    "\n",
    "    kx_d_target = np.sqrt(k0**2 * eps_d - ky**2 + - kz**2 + 0j)\n",
    "\n",
    "    alpha = kx_d_target**2\n",
    "\n",
    "    beta = alpha - k0**2 * (eps_d - eps_v)\n",
    "\n",
    "    kx_v = np.sqrt(beta)\n",
    "    kx_d = np.sqrt(alpha)\n",
    "\n",
    "    f_tm = TMx_condition(kx_d, kx_v, eps_d, eps_v, d, h)\n",
    "    f_te = TEx_condition(kx_d, kx_v, d, h)\n",
    "\n",
    "    return np.isclose(\n",
    "        f_tm, 0, atol=threshold) or np.isclose(\n",
    "        f_te, 0, atol=threshold)"
   ]
  }
 ],
 "metadata": {
  "jupytext": {
   "formats": "ipynb,py:light"
  },
    "kernelspec": {
   "display_name": "Python 3 (DOLFINx complex)",
   "language": "python",
   "name": "python3-complex"
  },
  "language_info": {
   "codemirror_mode": {
    "name": "ipython",
    "version": 3
   },
   "file_extension": ".py",
   "mimetype": "text/x-python",
   "name": "python",
   "nbconvert_exporter": "python",
   "pygments_lexer": "ipython3",
   "version": "3.10.4"
  }
 },
 "nbformat": 4,
 "nbformat_minor": 5
}
