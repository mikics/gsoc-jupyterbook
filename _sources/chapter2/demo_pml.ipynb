{
 "cells": [
  {
   "cell_type": "markdown",
   "id": "7653bdc7",
   "metadata": {},
   "source": [
    "# Scattering from a wire with perfectly matched layer condition\n",
    "\n",
    "Copyright (C) 2022 Michele Castriotta, Igor Baratta, Jørgen S. Dokken\n",
    "\n",
    "This demo is implemented in three files: one for the mesh\n",
    "generation with gmsh, one for the calculation of analytical efficiencies,\n",
    "and one for the variational forms and the solver. It illustrates how to:\n",
    "\n",
    "- Use complex quantities in FEniCSx\n",
    "- Setup and solve Maxwell's equations\n",
    "- Implement (rectangular) perfectly matched layers\n",
    "\n",
    "## Equations, problem definition and implementation\n",
    "\n",
    "First, we import the required modules"
   ]
  },
  {
   "cell_type": "code",
   "execution_count": null,
   "id": "f79346b3",
   "metadata": {},
   "outputs": [],
   "source": [
    "import sys\n",
    "\n",
    "try:\n",
    "    import gmsh\n",
    "except ModuleNotFoundError:\n",
    "    print(\"This demo requires gmsh to be installed\")\n",
    "    sys.exit(0)\n",
    "import numpy as np\n",
    "\n",
    "try:\n",
    "    import pyvista\n",
    "    have_pyvista = True\n",
    "except ModuleNotFoundError:\n",
    "    print(\"pyvista and pyvistaqt are required to visualise the solution\")\n",
    "    have_pyvista = False\n",
    "from functools import partial\n",
    "\n",
    "from analytical_efficiencies_wire import calculate_analytical_efficiencies\n",
    "from mesh_wire_pml import generate_mesh_wire\n",
    "\n",
    "from dolfinx import fem, mesh, plot\n",
    "from dolfinx.io import VTXWriter, gmshio\n",
    "from ufl import (FacetNormal, FiniteElement, Measure, SpatialCoordinate,\n",
    "                 TestFunction, TrialFunction, algebra, as_matrix, as_vector,\n",
    "                 conj, cross, det, grad, inner, inv, lhs, rhs, sqrt, transpose)\n",
    "\n",
    "from mpi4py import MPI\n",
    "from petsc4py import PETSc\n"
   ]
  },
  {
   "cell_type": "markdown",
   "id": "a1b5e9a9",
   "metadata": {},
   "source": [
    "Since we want to solve time-harmonic Maxwell's equation, we require that the demo is\n",
    "executed with DOLFINx (PETSc) complex mode."
   ]
  },
  {
   "cell_type": "code",
   "execution_count": null,
   "id": "435f49c5",
   "metadata": {},
   "outputs": [],
   "source": [
    "if not np.issubdtype(PETSc.ScalarType, np.complexfloating):\n",
    "    print(\"Demo should only be executed with DOLFINx complex mode\")\n",
    "    exit(0)"
   ]
  },
  {
   "cell_type": "markdown",
   "id": "ac0dbece",
   "metadata": {},
   "source": [
    "We consider an infinite metallic wire immersed in\n",
    "a background medium (e.g. vacuum or water). Let's now\n",
    "consider the plane cutting the wire perpendicularly to\n",
    "its axis at a generic point. Such plane $\\Omega=\\Omega_{m}\n",
    "\\cup\\Omega_{b}\\cup\\Omega_{pml}$ is formed by the cross-section\n",
    "of the wire $\\Omega_m$, the background medium\n",
    "$\\Omega_{b}$ surrounding the wire, and a squared perfectly\n",
    "matched layer (PML) surrounding the domains. PMLs are\n",
    "reflectionless layers that gradually absorb waves impinging\n",
    "on them, therefore allowing us to truncate the domain size.\n",
    "\n",
    "The goal of this demo is to calculate the electric field $\\mathbf{E}_s$\n",
    "scattered by the wire when a background wave $\\mathbf{E}_b$\n",
    "impinges on it. We will consider a background plane wave at\n",
    "$\\lambda_0$ wavelength, which can be written analytically as:\n",
    "\n",
    "$$\n",
    "\\mathbf{E}_b = \\exp(\\mathbf{k}\\cdot\\mathbf{r})\\hat{\\mathbf{u}}_p\n",
    "$$\n",
    "\n",
    "with $\\mathbf{k} = \\frac{2\\pi}{\\lambda_0}n_b\\hat{\\mathbf{u}}_k$\n",
    "being the wavevector of the\n",
    "plane wave, pointing along the propagation direction,\n",
    "with $\\hat{\\mathbf{u}}_p$ being the\n",
    "polarization direction, and with $\\mathbf{r}$ being a\n",
    "point in $\\Omega$.\n",
    "We will only consider $\\hat{\\mathbf{u}}_k$ and $\\hat{\\mathbf{u}}_p$\n",
    "with components belonging\n",
    "to the $\\Omega$ domain and perpendicular to each other,\n",
    "i.e. $\\hat{\\mathbf{u}}_k \\perp \\hat{\\mathbf{u}}_p$\n",
    "(transversality condition of plane waves).\n",
    "Using a Cartesian coordinate system for $\\Omega$,\n",
    "and by defining $k_x = n_bk_0\\cos\\theta$ and\n",
    "$k_y = n_bk_0\\sin\\theta$, with $\\theta$ being the angle\n",
    "defined by the propagation direction $\\hat{\\mathbf{u}}_k$\n",
    "and the horizontal axis $\\hat{\\mathbf{u}}_x$,\n",
    "we have:\n",
    "\n",
    "$$\n",
    "\\mathbf{E}_b = -\\sin\\theta e^{j (k_xx+k_yy)}\\hat{\\mathbf{u}}_x\n",
    "+ \\cos\\theta e^{j (k_xx+k_yy)}\\hat{\\mathbf{u}}_y\n",
    "$$\n",
    "\n",
    "The function `background_field` below implements this analytical\n",
    "formula:"
   ]
  },
  {
   "cell_type": "code",
   "execution_count": null,
   "id": "20e78da1",
   "metadata": {},
   "outputs": [],
   "source": [
    "\n",
    "\n",
    "def background_field(theta: float, n_b: float, k0: complex,\n",
    "                     x: np.typing.NDArray[np.float64]):\n",
    "\n",
    "    kx = n_b * k0 * np.cos(theta)\n",
    "    ky = n_b * k0 * np.sin(theta)\n",
    "    phi = kx * x[0] + ky * x[1]\n",
    "    return (-np.sin(theta) * np.exp(1j * phi), np.cos(theta) * np.exp(1j * phi))\n"
   ]
  },
  {
   "cell_type": "markdown",
   "id": "d874c068",
   "metadata": {},
   "source": [
    "For convenience, we define the $\\nabla\\times$ operator for a 2D vector"
   ]
  },
  {
   "cell_type": "code",
   "execution_count": null,
   "id": "eaf7ce57",
   "metadata": {},
   "outputs": [],
   "source": [
    "\n",
    "\n",
    "def curl_2d(a):\n",
    "    return as_vector((0, 0, a[1].dx(0) - a[0].dx(1)))\n"
   ]
  },
  {
   "cell_type": "markdown",
   "id": "4af0347b",
   "metadata": {
    "lines_to_next_cell": 2
   },
   "source": [
    "a PML gradually absorb waves impinging them. Mathematically, this effect can be embedded by using a complex\n",
    "coordinate system of this kind:\n",
    "\n",
    "\\begin{align}\n",
    "& x^\\prime= x\\left\\{1+j\\frac{\\alpha}{k_0}\\left[\\frac{|x|-l_{dom}/2}\n",
    "{(l_{pml}/2 - l_{dom}/2)^2}\\right] \\right\\}\\\\\n",
    "\\end{align}\n",
    "\n",
    "with $l_{dom}$ and $l_{pml}$ being the lengths of the domain\n",
    "without and with PML, respectively, and with $\\alpha$ being a parameter\n",
    "that tunes the absorption within the PML (the greater the $\\alpha$,\n",
    "the faster the absorption). In DOLFINx, we can define this\n",
    "coordinate transformation in the following way:"
   ]
  },
  {
   "cell_type": "code",
   "execution_count": null,
   "id": "4b066f74",
   "metadata": {},
   "outputs": [],
   "source": [
    "def pml_coordinates(x, alpha: float, k0: complex,\n",
    "                    l_dom: float, l_pml: float):\n",
    "    return (x + 1j * alpha / k0 * x\n",
    "            * (algebra.Abs(x) - l_dom / 2)\n",
    "            / (l_pml / 2 - l_dom / 2)**2)"
   ]
  },
  {
   "cell_type": "markdown",
   "id": "528945ef",
   "metadata": {},
   "source": [
    "We use the following domain specific parameters"
   ]
  },
  {
   "cell_type": "code",
   "execution_count": null,
   "id": "deae9e36",
   "metadata": {},
   "outputs": [],
   "source": [
    "# Constants\n",
    "um = 1  # micron\n",
    "nm = um * 10**-3  # nanometer\n",
    "epsilon_0 = 8.8541878128 * 10**-12\n",
    "mu_0 = 4 * np.pi * 10**-7\n",
    "\n",
    "# Radius of the wire and of the boundary of the domain\n",
    "radius_wire = 0.05 * um\n",
    "l_dom = 0.8 * um\n",
    "l_scatt = 0.8 * l_dom / 2\n",
    "l_pml = 1 * um\n",
    "\n",
    "# The smaller the mesh_factor, the finer is the mesh\n",
    "mesh_factor = 1\n",
    "\n",
    "# Mesh size inside the wire\n",
    "in_wire_size = mesh_factor * 6 * nm\n",
    "\n",
    "# Mesh size at the boundary of the wire\n",
    "on_wire_size = mesh_factor * 3 * nm\n",
    "\n",
    "# Mesh size in the background\n",
    "scatt_size = mesh_factor * 15 * nm\n",
    "\n",
    "# Mesh size at the boundary\n",
    "pml_size = mesh_factor * 15 * nm\n",
    "\n",
    "# Tags for the subdomains\n",
    "au_tag = 1\n",
    "bkg_tag = 2\n",
    "scatt_tag = 3\n",
    "pml_tag = 4"
   ]
  },
  {
   "cell_type": "markdown",
   "id": "eb8e2c7c",
   "metadata": {},
   "source": [
    "We generate the mesh using GMSH and convert it to a\n",
    "`dolfinx.mesh.Mesh`."
   ]
  },
  {
   "cell_type": "code",
   "execution_count": null,
   "id": "d64a2319",
   "metadata": {},
   "outputs": [],
   "source": [
    "model = generate_mesh_wire(\n",
    "    radius_wire, l_scatt, l_dom, l_pml,\n",
    "    in_wire_size, on_wire_size, scatt_size, pml_size,\n",
    "    au_tag, bkg_tag, scatt_tag, pml_tag)\n",
    "\n",
    "domain, cell_tags, facet_tags = gmshio.model_to_mesh(\n",
    "    model, MPI.COMM_WORLD, 0, gdim=2)\n",
    "\n",
    "gmsh.finalize()\n",
    "MPI.COMM_WORLD.barrier()"
   ]
  },
  {
   "cell_type": "markdown",
   "id": "b0cf1681",
   "metadata": {},
   "source": [
    "We visualize the mesh and subdomains with [PyVista](https://docs.pyvista.org/)"
   ]
  },
  {
   "cell_type": "code",
   "execution_count": null,
   "id": "82b9b89f",
   "metadata": {},
   "outputs": [],
   "source": [
    "if have_pyvista:\n",
    "    topology, cell_types, geometry = plot.create_vtk_mesh(domain, 2)\n",
    "    grid = pyvista.UnstructuredGrid(topology, cell_types, geometry)\n",
    "    pyvista.set_jupyter_backend(\"pythreejs\")\n",
    "    plotter = pyvista.Plotter()\n",
    "    num_local_cells = domain.topology.index_map(domain.topology.dim).size_local\n",
    "    grid.cell_data[\"Marker\"] = \\\n",
    "        cell_tags.values[cell_tags.indices < num_local_cells]\n",
    "    grid.set_active_scalars(\"Marker\")\n",
    "    plotter.add_mesh(grid, show_edges=True)\n",
    "    plotter.view_xy()\n",
    "    if not pyvista.OFF_SCREEN:\n",
    "        plotter.show(interactive=True)\n",
    "    else:\n",
    "        pyvista.start_xvfb()\n",
    "        figure = plotter.screenshot(\"wire_mesh_pml.png\",\n",
    "                                    window_size=[800, 800])"
   ]
  },
  {
   "cell_type": "markdown",
   "id": "d6be7eb0",
   "metadata": {},
   "source": [
    "We observe five different subdomains: one for the gold\n",
    "wire (`au_tag`), one for the background medium (`bkg_tag`), one for the\n",
    "PML corners (`pml_tag`), one for the PML rectangles along $x$\n",
    "(`pml_tag + 1`), and one for the PML rectangles along $y$ (`pml_tag + 2`).\n",
    "These different PML regions have different coordinate transformation,\n",
    "as specified here below:\n",
    "\n",
    "\\begin{align}\n",
    "\\text{PML}_\\text{corners} \\rightarrow \\mathbf{r}^\\prime & = (x^\\prime, y^\\prime) \\\\\n",
    "\\text{PML}_\\text{rectangles along x} \\rightarrow\n",
    "                                      \\mathbf{r}^\\prime & = (x^\\prime, y) \\\\\n",
    "\\text{PML}_\\text{rectangles along y} \\rightarrow\n",
    "                                      \\mathbf{r}^\\prime & = (x, y^\\prime).\n",
    "\\end{align}\n",
    "\n",
    "Now we define some other problem specific parameters:"
   ]
  },
  {
   "cell_type": "code",
   "execution_count": null,
   "id": "8aab33d7",
   "metadata": {},
   "outputs": [],
   "source": [
    "wl0 = 0.4 * um  # Wavelength of the background field\n",
    "n_bkg = 1  # Background refractive index\n",
    "eps_bkg = n_bkg**2  # Background relative permittivity\n",
    "k0 = 2 * np.pi / wl0  # Wavevector of the background field\n",
    "deg = np.pi / 180\n",
    "theta = 0 * deg  # Angle of incidence of the background field"
   ]
  },
  {
   "cell_type": "markdown",
   "id": "e464832a",
   "metadata": {},
   "source": [
    "We use a 3rd order\n",
    "[Nedelec (first kind)](https://defelement.com/elements/nedelec1.html)\n",
    "element to represent the electric field:\n"
   ]
  },
  {
   "cell_type": "code",
   "execution_count": null,
   "id": "ea9b58af",
   "metadata": {},
   "outputs": [],
   "source": [
    "degree = 3\n",
    "curl_el = FiniteElement(\"N1curl\", domain.ufl_cell(), degree)\n",
    "V = fem.FunctionSpace(domain, curl_el)"
   ]
  },
  {
   "cell_type": "markdown",
   "id": "8f889c8c",
   "metadata": {},
   "source": [
    "Next, we interpolate $\\mathbf{E}_b$ into the function space $V$, define our\n",
    "trial and test function, and the integration domains:"
   ]
  },
  {
   "cell_type": "code",
   "execution_count": null,
   "id": "990c14a3",
   "metadata": {},
   "outputs": [],
   "source": [
    "Eb = fem.Function(V)\n",
    "f = partial(background_field, theta, n_bkg, k0)\n",
    "Eb.interpolate(f)\n",
    "\n",
    "# Definition of Trial and Test functions\n",
    "Es = TrialFunction(V)\n",
    "v = TestFunction(V)\n",
    "\n",
    "# Definition of 3d fields\n",
    "Es_3d = as_vector((Es[0], Es[1], 0))\n",
    "v_3d = as_vector((v[0], v[1], 0))\n",
    "\n",
    "# Measures for subdomains\n",
    "dx = Measure(\"dx\", domain, subdomain_data=cell_tags)\n",
    "dDom = dx((au_tag, bkg_tag))\n",
    "dPml_xy = dx(pml_tag)\n",
    "dPml_x = dx(pml_tag + 1)\n",
    "dPml_y = dx(pml_tag + 2)"
   ]
  },
  {
   "cell_type": "markdown",
   "id": "520ac6d9",
   "metadata": {},
   "source": [
    "Let's now define the relative permittivity $\\varepsilon_m$\n",
    "of the gold wire at $400nm$ (data taken from\n",
    "[*Olmon et al. 2012*](https://doi.org/10.1103/PhysRevB.86.235147)\n",
    ", and for a quick reference have a look at [refractiveindex.info](\n",
    "https://refractiveindex.info/?shelf=main&book=Au&page=Olmon-sc\n",
    ")):"
   ]
  },
  {
   "cell_type": "code",
   "execution_count": null,
   "id": "86101cdc",
   "metadata": {
    "lines_to_next_cell": 2
   },
   "outputs": [],
   "source": [
    "# Definition of relative permittivity for Au @400nm\n",
    "eps_au = -1.0782 + 1j * 5.8089"
   ]
  },
  {
   "cell_type": "markdown",
   "id": "b2a74eec",
   "metadata": {},
   "source": [
    "We can now define a space function for the permittivity\n",
    "$\\varepsilon$ that takes the value $\\varepsilon_m$\n",
    "for cells inside the wire, while it takes the value of the\n",
    "background permittivity $\\varepsilon_b$ in the background region:"
   ]
  },
  {
   "cell_type": "code",
   "execution_count": null,
   "id": "8f60ee61",
   "metadata": {},
   "outputs": [],
   "source": [
    "D = fem.FunctionSpace(domain, (\"DG\", 0))\n",
    "eps = fem.Function(D)\n",
    "au_cells = cell_tags.find(au_tag)\n",
    "bkg_cells = cell_tags.find(bkg_tag)\n",
    "eps.x.array[au_cells] = np.full_like(\n",
    "    au_cells, eps_au, dtype=np.complex128)\n",
    "eps.x.array[bkg_cells] = np.full_like(bkg_cells, eps_bkg, dtype=np.complex128)\n",
    "eps.x.scatter_forward()"
   ]
  },
  {
   "cell_type": "markdown",
   "id": "0e8fbb32",
   "metadata": {},
   "source": [
    "Now we need to define our weak form in DOLFINx.\n",
    "Let's write the PML weak form first. As a first step,\n",
    "we can define our new complex coordinates as:"
   ]
  },
  {
   "cell_type": "code",
   "execution_count": null,
   "id": "02afe230",
   "metadata": {},
   "outputs": [],
   "source": [
    "x = SpatialCoordinate(domain)\n",
    "alpha = 1\n",
    "\n",
    "# PML corners\n",
    "xy_pml = as_vector((pml_coordinates(x[0], alpha, k0, l_dom, l_pml),\n",
    "                    pml_coordinates(x[1], alpha, k0, l_dom, l_pml)))\n",
    "\n",
    "# PML rectangles along x\n",
    "x_pml = as_vector((pml_coordinates(x[0], alpha, k0, l_dom, l_pml), x[1]))\n",
    "\n",
    "# PML rectangles along y\n",
    "y_pml = as_vector((x[0], pml_coordinates(x[1], alpha, k0, l_dom, l_pml)))"
   ]
  },
  {
   "cell_type": "markdown",
   "id": "111505af",
   "metadata": {},
   "source": [
    "We can then express this coordinate systems as\n",
    "a material transformation within the PML region. In other words,\n",
    "the PML region can be interpreted as a material\n",
    "having, in general, anisotropic, inhomogeneous and complex permittivity\n",
    "$\\boldsymbol{\\varepsilon}_{pml}$ and\n",
    "permeability $\\boldsymbol{\\mu}_{pml}$. To do this, we need\n",
    "to calculate the Jacobian of the coordinate transformation:\n",
    "\n",
    "$$\n",
    "\\mathbf{J}=\\mathbf{A}^{-1}= \\nabla\\boldsymbol{x}^\n",
    "\\prime(\\boldsymbol{x}) =\n",
    "\\left[\\begin{array}{ccc}\n",
    "\\frac{\\partial x^{\\prime}}{\\partial x} &\n",
    "\\frac{\\partial y^{\\prime}}{\\partial x} &\n",
    "\\frac{\\partial z^{\\prime}}{\\partial x} \\\\\n",
    "\\frac{\\partial x^{\\prime}}{\\partial y} &\n",
    "\\frac{\\partial y^{\\prime}}{\\partial y} &\n",
    "\\frac{\\partial z^{\\prime}}{\\partial y} \\\\\n",
    "\\frac{\\partial x^{\\prime}}{\\partial z} &\n",
    "\\frac{\\partial y^{\\prime}}{\\partial z} &\n",
    "\\frac{\\partial z^{\\prime}}{\\partial z}\n",
    "\\end{array}\\right]=\\left[\\begin{array}{ccc}\n",
    "\\frac{\\partial x^{\\prime}}{\\partial x} & 0 & 0 \\\\\n",
    "0 & \\frac{\\partial y^{\\prime}}{\\partial y} & 0 \\\\\n",
    "0 & 0 & \\frac{\\partial z^{\\prime}}{\\partial z}\n",
    "\\end{array}\\right]=\\left[\\begin{array}{ccc}\n",
    "J_{11} & 0 & 0 \\\\\n",
    "0 & J_{22} & 0 \\\\\n",
    "0 & 0 & 1\n",
    "\\end{array}\\right]\n",
    "$$\n",
    "\n",
    "Then, our $\\boldsymbol{\\varepsilon}_{pml}$ and\n",
    "$\\boldsymbol{\\mu}_{pml}$ can be calculated with\n",
    "the following formula, from\n",
    "[Ward & Pendry, 1996](\n",
    "https://www.tandfonline.com/doi/abs/10.1080/09500349608232782):\n",
    "\n",
    "$$\n",
    "\\begin{align}\n",
    "& {\\boldsymbol{\\varepsilon}_{pml}} =\n",
    "A^{-1} \\mathbf{A} {\\boldsymbol{\\varepsilon}_b}\\mathbf{A}^{T},\\\\\n",
    "& {\\boldsymbol{\\mu}_{pml}} =\n",
    "A^{-1} \\mathbf{A} {\\boldsymbol{\\mu}_b}\\mathbf{A}^{T},\n",
    "\\end{align}\n",
    "$$\n",
    "\n",
    "with $A^{-1}=\\operatorname{det}(\\mathbf{J})$.\n",
    "\n",
    "In DOLFINx, we use\n",
    "`ufl.grad` to calculate the Jacobian of our\n",
    "coordinate transformation for the different PML regions,\n",
    "and then we can implement this Jacobian for\n",
    "calculating $\\boldsymbol{\\varepsilon}_{pml}$\n",
    "and $\\boldsymbol{\\mu}_{pml}$. The here below function\n",
    "named `create_eps_mu()` serves this purpose:"
   ]
  },
  {
   "cell_type": "code",
   "execution_count": null,
   "id": "43f4879f",
   "metadata": {},
   "outputs": [],
   "source": [
    "\n",
    "\n",
    "def create_eps_mu(pml, eps_bkg, mu_bkg):\n",
    "\n",
    "    J = grad(pml)\n",
    "\n",
    "    # Transform the 2x2 Jacobian into a 3x3 matrix.\n",
    "    J = as_matrix(((J[0, 0], 0, 0),\n",
    "                   (0, J[1, 1], 0),\n",
    "                   (0, 0, 1)))\n",
    "\n",
    "    A = inv(J)\n",
    "    eps_pml = det(J) * A * eps_bkg * transpose(A)\n",
    "    mu_pml = det(J) * A * mu_bkg * transpose(A)\n",
    "    return eps_pml, mu_pml\n",
    "\n",
    "\n",
    "eps_x, mu_x = create_eps_mu(x_pml, eps_bkg, 1)\n",
    "eps_y, mu_y = create_eps_mu(y_pml, eps_bkg, 1)\n",
    "eps_xy, mu_xy = create_eps_mu(xy_pml, eps_bkg, 1)\n"
   ]
  },
  {
   "cell_type": "markdown",
   "id": "84d9d90f",
   "metadata": {},
   "source": [
    "The final weak form in the PML region is:\n",
    "\n",
    "$$\n",
    "\\int_{\\Omega_{pml}}\\left[\\boldsymbol{\\mu}^{-1}_{pml} \\nabla \\times \\mathbf{E}\n",
    "\\right]\\cdot \\nabla \\times \\bar{\\mathbf{v}}-k_{0}^{2}\n",
    "\\left[\\boldsymbol{\\varepsilon}_{pml} \\mathbf{E} \\right]\\cdot\n",
    "\\bar{\\mathbf{v}}~ d x=0,\n",
    "$$\n",
    "\n",
    "\n",
    "while in the rest of the domain is:\n",
    "\n",
    "$$\n",
    "\\begin{align}\n",
    "& \\int_{\\Omega_m\\cup\\Omega_b}-(\\nabla \\times \\mathbf{E}_s)\n",
    "\\cdot (\\nabla \\times \\bar{\\mathbf{v}})+\\varepsilon_{r} k_{0}^{2}\n",
    "\\mathbf{E}_s \\cdot \\bar{\\mathbf{v}}+k_{0}^{2}\\left(\\varepsilon_{r}\n",
    "-\\varepsilon_b\\right)\\mathbf{E}_b \\cdot \\bar{\\mathbf{v}}~\\mathrm{d}x.\n",
    "= 0.\n",
    "\\end{align}\n",
    "$$\n",
    "\n",
    "Let's solve this equation in DOLFINx:"
   ]
  },
  {
   "cell_type": "code",
   "execution_count": null,
   "id": "5a8b4f85",
   "metadata": {},
   "outputs": [],
   "source": [
    "# Definition of the weak form\n",
    "F = - inner(curl_2d(Es), curl_2d(v)) * dDom \\\n",
    "    + eps * k0 ** 2 * inner(Es, v) * dDom \\\n",
    "    + k0 ** 2 * (eps - eps_bkg) * inner(Eb, v) * dDom \\\n",
    "    - inner(inv(mu_x) * curl_2d(Es), curl_2d(v)) * dPml_x \\\n",
    "    - inner(inv(mu_y) * curl_2d(Es), curl_2d(v)) * dPml_y \\\n",
    "    - inner(inv(mu_xy) * curl_2d(Es), curl_2d(v)) * dPml_xy \\\n",
    "    + k0 ** 2 * inner(eps_x * Es_3d, v_3d) * dPml_x \\\n",
    "    + k0 ** 2 * inner(eps_y * Es_3d, v_3d) * dPml_y \\\n",
    "    + k0 ** 2 * inner(eps_xy * Es_3d, v_3d) * dPml_xy\n",
    "\n",
    "a, L = lhs(F), rhs(F)\n",
    "\n",
    "problem = fem.petsc.LinearProblem(a, L, bcs=[], petsc_options={\n",
    "                                  \"ksp_type\": \"preonly\", \"pc_type\": \"lu\"})\n",
    "Esh = problem.solve()"
   ]
  },
  {
   "cell_type": "markdown",
   "id": "b6003737",
   "metadata": {},
   "source": [
    "Let's now save the solution in a `bp`-file. In order to do so,\n",
    "we need to interpolate our solution discretized with Nedelec elements\n",
    "into a compatible discontinuous Lagrange space."
   ]
  },
  {
   "cell_type": "code",
   "execution_count": null,
   "id": "3944823f",
   "metadata": {},
   "outputs": [],
   "source": [
    "V_dg = fem.VectorFunctionSpace(domain, (\"DG\", degree))\n",
    "Esh_dg = fem.Function(V_dg)\n",
    "Esh_dg.interpolate(Esh)\n",
    "\n",
    "with VTXWriter(domain.comm, \"Esh.bp\", Esh_dg) as vtx:\n",
    "    vtx.write(0.0)"
   ]
  },
  {
   "cell_type": "markdown",
   "id": "658bfe23",
   "metadata": {},
   "source": [
    "For more information about saving and visualizing vector fields\n",
    "discretized with Nedelec elements, check [this](\n",
    "https://docs.fenicsproject.org/dolfinx/main/python/demos/demo_interpolation-io.html)\n",
    "DOLFINx demo."
   ]
  },
  {
   "cell_type": "code",
   "execution_count": null,
   "id": "d4bdca8c",
   "metadata": {},
   "outputs": [],
   "source": [
    "if have_pyvista:\n",
    "    V_cells, V_types, V_x = plot.create_vtk_mesh(V_dg)\n",
    "    V_grid = pyvista.UnstructuredGrid(V_cells, V_types, V_x)\n",
    "    Esh_values = np.zeros((V_x.shape[0], 3), dtype=np.float64)\n",
    "    Esh_values[:, :domain.topology.dim] = \\\n",
    "        Esh_dg.x.array.reshape(V_x.shape[0], domain.topology.dim).real\n",
    "\n",
    "    V_grid.point_data[\"u\"] = Esh_values\n",
    "\n",
    "    pyvista.set_jupyter_backend(\"pythreejs\")\n",
    "    plotter = pyvista.Plotter()\n",
    "\n",
    "    plotter.add_text(\"magnitude\", font_size=12, color=\"black\")\n",
    "    plotter.add_mesh(V_grid.copy(), show_edges=True)\n",
    "    plotter.view_xy()\n",
    "    plotter.link_views()\n",
    "\n",
    "    if not pyvista.OFF_SCREEN:\n",
    "        plotter.show()\n",
    "    else:\n",
    "        pyvista.start_xvfb()\n",
    "        plotter.screenshot(\"Esh.png\", window_size=[800, 800])"
   ]
  },
  {
   "cell_type": "markdown",
   "id": "66ce347e",
   "metadata": {},
   "source": [
    "Next we can calculate the total electric field\n",
    "$\\mathbf{E}=\\mathbf{E}_s+\\mathbf{E}_b$ and save it:"
   ]
  },
  {
   "cell_type": "code",
   "execution_count": null,
   "id": "d45b7f2d",
   "metadata": {},
   "outputs": [],
   "source": [
    "E = fem.Function(V)\n",
    "E.x.array[:] = Eb.x.array[:] + Esh.x.array[:]\n",
    "\n",
    "E_dg = fem.Function(V_dg)\n",
    "E_dg.interpolate(E)\n",
    "\n",
    "with VTXWriter(domain.comm, \"E.bp\", E_dg) as vtx:\n",
    "    vtx.write(0.0)"
   ]
  },
  {
   "cell_type": "markdown",
   "id": "de8d059c",
   "metadata": {},
   "source": [
    "## Post-processing\n",
    "We use `dolfinx.fem.Expression` to interpolate the norm of the electric field\n",
    "into a suitable function space.\n",
    "\n",
    "$$\n",
    "||\\mathbf{E}_s|| = \\sqrt{\\mathbf{E}_s\\cdot\\bar{\\mathbf{E}}_s}\n",
    "$$"
   ]
  },
  {
   "cell_type": "code",
   "execution_count": null,
   "id": "28d20913",
   "metadata": {},
   "outputs": [],
   "source": [
    "lagr_el = FiniteElement(\"CG\", domain.ufl_cell(), 2)\n",
    "V_normEsh = fem.FunctionSpace(domain, lagr_el)\n",
    "norm_expr = fem.Expression(sqrt(inner(Esh, Esh)), V_normEsh.element.interpolation_points())\n",
    "normEsh = fem.Function(V_normEsh)\n",
    "normEsh.interpolate(norm_expr)"
   ]
  },
  {
   "cell_type": "markdown",
   "id": "bebcb490",
   "metadata": {},
   "source": [
    "To validate the formulation we calculate the\n",
    "absorption, scattering and extinction efficiencies, which are\n",
    "quantities that define how much light is absorbed and scattered\n",
    "by the wire. First of all, we calculate the analytical efficiencies\n",
    "with the `calculate_analytical_efficiencies` function defined in a\n",
    "separate file:"
   ]
  },
  {
   "cell_type": "code",
   "execution_count": null,
   "id": "110c6a73",
   "metadata": {},
   "outputs": [],
   "source": [
    "q_abs_analyt, q_sca_analyt, q_ext_analyt = calculate_analytical_efficiencies(\n",
    "    eps_au, n_bkg, wl0, radius_wire)"
   ]
  },
  {
   "cell_type": "markdown",
   "id": "60d562c2",
   "metadata": {},
   "source": [
    "We calculate the numerical efficiencies in the same way as done in (cite the first demo)"
   ]
  },
  {
   "cell_type": "code",
   "execution_count": null,
   "id": "c8e156aa",
   "metadata": {},
   "outputs": [],
   "source": [
    "# Vacuum impedance\n",
    "Z0 = np.sqrt(mu_0 / epsilon_0)\n",
    "\n",
    "# Magnetic field H\n",
    "Hsh_3d = -1j * curl_2d(Esh) / Z0 / k0 / n_bkg\n",
    "\n",
    "Esh_3d = as_vector((Esh[0], Esh[1], 0))\n",
    "E_3d = as_vector((E[0], E[1], 0))\n",
    "\n",
    "# Intensity of the electromagnetic fields I0 = 0.5*E0**2/Z0\n",
    "# E0 = np.sqrt(ax**2 + ay**2) = 1, see background_electric_field\n",
    "I0 = 0.5 / Z0\n",
    "\n",
    "# Geometrical cross section of the wire\n",
    "gcs = 2 * radius_wire\n",
    "\n",
    "n = FacetNormal(domain)\n",
    "n_3d = as_vector((n[0], n[1], 0))\n",
    "\n",
    "marker = fem.Function(D)\n",
    "scatt_facets = facet_tags.find(scatt_tag)\n",
    "incident_cells = mesh.compute_incident_entities(domain, scatt_facets,\n",
    "                                                domain.topology.dim - 1,\n",
    "                                                domain.topology.dim)\n",
    "\n",
    "midpoints = mesh.compute_midpoints(domain, domain.topology.dim, incident_cells)\n",
    "inner_cells = incident_cells[(midpoints[:, 0]**2\n",
    "                              + midpoints[:, 1]**2) < (l_scatt)**2]\n",
    "\n",
    "marker.x.array[inner_cells] = 1\n",
    "\n",
    "# Quantities for the calculation of efficiencies\n",
    "P = 0.5 * inner(cross(Esh_3d, conj(Hsh_3d)), n_3d) * marker\n",
    "Q = 0.5 * eps_au.imag * k0 * (inner(E_3d, E_3d)) / Z0 / n_bkg\n",
    "\n",
    "# Define integration domain for the wire\n",
    "dAu = dx(au_tag)\n",
    "\n",
    "# Define integration facet for the scattering efficiency\n",
    "dS = Measure(\"dS\", domain, subdomain_data=facet_tags)\n",
    "\n",
    "# Normalized absorption efficiency\n",
    "q_abs_fenics_proc = (fem.assemble_scalar(fem.form(Q * dAu)) / gcs / I0).real\n",
    "# Sum results from all MPI processes\n",
    "q_abs_fenics = domain.comm.allreduce(q_abs_fenics_proc, op=MPI.SUM)\n",
    "\n",
    "# Normalized scattering efficiency\n",
    "q_sca_fenics_proc = (fem.assemble_scalar(\n",
    "    fem.form((P('+') + P('-')) * dS(scatt_tag))) / gcs / I0).real\n",
    "\n",
    "# Sum results from all MPI processes\n",
    "q_sca_fenics = domain.comm.allreduce(q_sca_fenics_proc, op=MPI.SUM)\n",
    "\n",
    "# Extinction efficiency\n",
    "q_ext_fenics = q_abs_fenics + q_sca_fenics\n",
    "\n",
    "# Error calculation\n",
    "err_abs = np.abs(q_abs_analyt - q_abs_fenics) / q_abs_analyt\n",
    "err_sca = np.abs(q_sca_analyt - q_sca_fenics) / q_sca_analyt\n",
    "err_ext = np.abs(q_ext_analyt - q_ext_fenics) / q_ext_analyt\n",
    "\n",
    "\n",
    "if MPI.COMM_WORLD.rank == 0:\n",
    "\n",
    "    print()\n",
    "    print(f\"The analytical absorption efficiency is {q_abs_analyt}\")\n",
    "    print(f\"The numerical absorption efficiency is {q_abs_fenics}\")\n",
    "    print(f\"The error is {err_abs*100}%\")\n",
    "    print()\n",
    "    print(f\"The analytical scattering efficiency is {q_sca_analyt}\")\n",
    "    print(f\"The numerical scattering efficiency is {q_sca_fenics}\")\n",
    "    print(f\"The error is {err_sca*100}%\")\n",
    "    print()\n",
    "    print(f\"The analytical extinction efficiency is {q_ext_analyt}\")\n",
    "    print(f\"The numerical extinction efficiency is {q_ext_fenics}\")\n",
    "    print(f\"The error is {err_ext*100}%\")"
   ]
  },
  {
   "cell_type": "code",
   "execution_count": null,
   "id": "0894eb65",
   "metadata": {},
   "outputs": [],
   "source": [
    "# Check if errors are smaller than 1%\n",
    "assert err_abs < 0.01\n",
    "assert err_sca < 0.01\n",
    "assert err_ext < 0.01"
   ]
  }
 ],
 "metadata": {
  "jupytext": {
   "formats": "ipynb,py:light"
  },
    "kernelspec": {
   "display_name": "Python 3 (DOLFINx complex)",
   "language": "python",
   "name": "python3-complex"
  },
  "language_info": {
   "codemirror_mode": {
    "name": "ipython",
    "version": 3
   },
   "file_extension": ".py",
   "mimetype": "text/x-python",
   "name": "python",
   "nbconvert_exporter": "python",
   "pygments_lexer": "ipython3",
   "version": "3.10.4"
  }
 },
 "nbformat": 4,
 "nbformat_minor": 5
}
