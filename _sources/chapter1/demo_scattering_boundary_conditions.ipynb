{
 "cells": [
  {
   "cell_type": "markdown",
   "id": "8ceb3829",
   "metadata": {},
   "source": [
    "# Scattering from a wire with scattering boundary conditions\n",
    "\n",
    "Copyright (C) 2022 Michele Castriotta, Igor Baratta, Jørgen S. Dokken\n",
    "\n",
    "This demo is implemented in two files: one for the mesh\n",
    "generation with gmsh, and one for the variational forms\n",
    "and the solver. It illustrates how to:\n",
    "\n",
    "- Use complex quantities in FEniCSx\n",
    "- Setup and solve Maxwell's equations\n",
    "- Implement Scattering Boundary Conditions\n",
    "\n",
    "## Equations, problem definition and implementation\n",
    "\n",
    "First of all, let's import the modules that will be used:"
   ]
  },
  {
   "cell_type": "code",
   "execution_count": null,
   "id": "8eb5f3fa",
   "metadata": {},
   "outputs": [],
   "source": [
    "import sys\n",
    "\n",
    "try:\n",
    "    import gmsh\n",
    "except ModuleNotFoundError:\n",
    "    print(\"This demo requires gmsh to be installed\")\n",
    "    sys.exit(0)\n",
    "import numpy as np\n",
    "\n",
    "try:\n",
    "    import pyvista\n",
    "    have_pyvista = True\n",
    "except ModuleNotFoundError:\n",
    "    print(\"pyvista and pyvistaqt are required to visualise the solution\")\n",
    "    have_pyvista = False\n",
    "from analytical_efficiencies_wire import calculate_analytical_efficiencies\n",
    "from mesh_wire import generate_mesh_wire\n",
    "\n",
    "from dolfinx import fem, plot\n",
    "from dolfinx.io import VTXWriter\n",
    "from dolfinx.io.gmshio import model_to_mesh\n",
    "import ufl\n",
    "from mpi4py import MPI\n",
    "from petsc4py import PETSc\n"
   ]
  },
  {
   "cell_type": "markdown",
   "id": "26eb4e8b",
   "metadata": {},
   "source": [
    "Since we want to solve time-harmonic Maxwell's equation, we need to solve a\n",
    "complex-valued PDE, and therefore need to use PETSc compiled with complex numbers."
   ]
  },
  {
   "cell_type": "code",
   "execution_count": null,
   "id": "a31bcc75",
   "metadata": {},
   "outputs": [],
   "source": [
    "if not np.issubdtype(PETSc.ScalarType, np.complexfloating):\n",
    "    print(\"Demo should only be executed with DOLFINx complex mode\")\n",
    "    exit(0)"
   ]
  },
  {
   "cell_type": "markdown",
   "id": "acf54f03",
   "metadata": {},
   "source": [
    "Now, let's consider an infinite metallic wire immersed in\n",
    "a background medium (e.g. vacuum or water). Let's now\n",
    "consider the plane cutting the wire perpendicularly to\n",
    "its axis at a generic point. Such plane $\\Omega=\\Omega_{m}\n",
    "\\cup\\Omega_{b}$ is formed by the cross-section\n",
    "of the wire $\\Omega_m$ and the background medium\n",
    "$\\Omega_{b}$ surrounding the wire. Let's consider\n",
    "just the portion of this plane delimited by an external\n",
    "circular boundary $\\partial \\Omega$. We want to calculate\n",
    "the electric field $\\mathbf{E}_s$ scattered by the wire\n",
    "when a background wave $\\mathbf{E}_b$ impinges on it.\n",
    "We will consider a background plane wave at $\\lambda_0$\n",
    "wavelength, that can be written analytically as:\n",
    "\n",
    "$$\n",
    "\\mathbf{E}_b = \\exp(\\mathbf{k}\\cdot\\mathbf{r})\\hat{\\mathbf{u}}_p\n",
    "$$\n",
    "\n",
    "with $\\mathbf{k} = \\frac{2\\pi}{\\lambda_0}n_b\\hat{\\mathbf{u}}_k$\n",
    "being the wavevector of the\n",
    "plane wave, pointing along the propagation direction,\n",
    "with $\\hat{\\mathbf{u}}_p$ being the\n",
    "polarization direction, and with $\\mathbf{r}$ being a\n",
    "point in $\\Omega$.\n",
    "We will only consider $\\hat{\\mathbf{u}}_k$ and $\\hat{\\mathbf{u}}_p$\n",
    "with components belonging\n",
    "to the $\\Omega$ domain and perpendicular to each other,\n",
    "i.e. $\\hat{\\mathbf{u}}_k \\perp \\hat{\\mathbf{u}}_p$\n",
    "(transversality condition of plane waves).\n",
    "Using a Cartesian coordinate system for $\\Omega$,\n",
    "and by defining $k_x = n_bk_0\\cos\\theta$ and\n",
    "$k_y = n_bk_0\\sin\\theta$, with $\\theta$ being the angle\n",
    "defined by the propagation direction $\\hat{\\mathbf{u}}_k$\n",
    "and the horizontal axis $\\hat{\\mathbf{u}}_x$,\n",
    "we have:\n",
    "\n",
    "$$\n",
    "\\mathbf{E}_b = -\\sin\\theta e^{j (k_xx+k_yy)}\\hat{\\mathbf{u}}_x\n",
    "+ \\cos\\theta e^{j (k_xx+k_yy)}\\hat{\\mathbf{u}}_y\n",
    "$$\n",
    "\n",
    "The following class implements this functions.\n",
    "The inputs to the function are the angle $\\theta$, the background\n",
    "refractive index $n_b$ and the vacuum wavevector $k_0$. The\n",
    "function returns the expression $\\mathbf{E}_b = -\\sin\n",
    "\\theta e^{j (k_xx+k_yy)}\\hat{\\mathbf{u}}_x\n
    "+ \\cos\\theta e^{j (k_xx+k_yy)}\\hat{\\mathbf{u}}_y$."
   ]
  },
  {
   "cell_type": "code",
   "execution_count": null,
   "id": "436e234e",
   "metadata": {},
   "outputs": [],
   "source": [
    "\n",
    "class BackgroundElectricField:\n",
    "\n",
    "    def __init__(self, theta, n_b, k0):\n",
    "        self.theta = theta\n",
    "        self.k0 = k0\n",
    "        self.n_b = n_b\n",
    "\n",
    "    def eval(self, x):\n",
    "\n",
    "        kx = self.n_b * self.k0 * np.cos(self.theta)\n",
    "        ky = self.n_b * self.k0 * np.sin(self.theta)\n",
    "        phi = kx * x[0] + ky * x[1]\n",
    "\n",
    "        ax = np.sin(self.theta)\n",
    "        ay = np.cos(self.theta)\n",
    "\n",
    "        return (-ax * np.exp(1j * phi), ay * np.exp(1j * phi))"
   ]
  },
  {
   "cell_type": "markdown",
   "id": "9fb68071",
   "metadata": {},
   "source": [
    "The Maxwell's equation for scattering problems takes the following form:\n",
    "\n",
    "$$\n",
    "-\\nabla \\times \\nabla \\times \\mathbf{E}_s+\\varepsilon_{r} k_{0}^{2}\n",
    "\\mathbf{E}_s\n",
    "+k_{0}^{2}\\left(\\varepsilon_{r}-\\varepsilon_{b}\\right)\n",
    "\\mathbf{E}_{\\mathrm{b}}=0 \\textrm{ in } \\Omega,\n",
    "$$\n",
    "\n",
    "where $k_0 = 2\\pi/\\lambda_0$ is the vacuum wavevector of the background\n",
    "field, $\\varepsilon_b$ is the background relative permittivity and\n",
    "$\\varepsilon_r$ is the relative permittivity as a function of space,\n",
    "i.e.:\n",
    "\n",
    "$$\n",
    "\\varepsilon_r = \\begin{cases}\n",
    "\\varepsilon_m & \\textrm{on }\\Omega_m \\\\\n",
    "\\varepsilon_b & \\textrm{on }\\Omega_b\n",
    "\\end{cases}\n",
    "$$\n",
    "\n",
    "with $\\varepsilon_m$ being the relative permittivity of the metallic\n",
    "wire. As reference values, we will consider $\\lambda_0 = 400\\textrm{nm}$\n",
    "(violet light), $\\varepsilon_b = 1.33^2$ (relative permittivity of water),\n",
    "and $\\varepsilon_m = -1.0782 + 5.8089\\textrm{j}$ (relative permittivity of\n",
    "gold at $400\\textrm{nm}$).\n",
    "\n",
    "To form a well-determined system, we add boundary conditions on $\\partial \\Omega$.\n",
    "It is common to use scattering boundary conditions (ref), which make the boundary\n",
    "transparent for $\\mathbf{E}_s$, allowing us to restric the computational boundary\n",
    "to a finite $\\Omega$ domain. The first-order boundary conditions\n",
    "in the 2D case take the following form:\n",
    "\n",
    "$$\\mathbf{n} \\times\n",
    "\\nabla \\times \\mathbf{E}_s+\\left(j k_{0}n_b + \\frac{1}{2r}\n",
    "\\right) \\mathbf{n} \\times \\mathbf{E}_s\n",
    "\\times \\mathbf{n}=0\\quad \\textrm{ on } \\partial \\Omega,\n",
    "$$\n",
    "\n",
    "\n",
    "with $n_b = \\sqrt{\\varepsilon_b}$ being the background refractive\n",
    "index, $\\mathbf{n}$ being the normal vector to $\\partial \\Omega$,\n",
    "and $r = \\sqrt{(x-x_s)^2 + (y-y_s)^2}$ being the distance of the\n",
    "$(x, y)$ point on $\\partial\\Omega$ from the wire centered in\n",
    "$(x_s, y_s)$. We consider a wired centered at the origin, i.e.\n",
    "$r =\\sqrt{x^2 + y^2}$.\n",
    "\n",
    "The radial distance function $r(x)$ and $\\nabla \\times$ operator for a 2D vector (in UFL syntax) is defined below.\n"
   ]
  },
  {
   "cell_type": "code",
   "execution_count": null,
   "id": "073fb9d3",
   "metadata": {},
   "outputs": [],
   "source": [
    "def radial_distance(x):\n",
    "    \"\"\"Returns the radial distance from the origin\"\"\"\n",
    "    return ufl.sqrt(x[0]**2 + x[1]**2)\n",
    "\n",
    "\n",
    "def curl_2d(a):\n",
    "    \"\"\"Returns the curl of two 2D vectors as a 3D vector\"\"\"\n",
    "    return ufl.as_vector((0, 0, a[1].dx(0) - a[0].dx(1)))\n"
   ]
  },
  {
   "cell_type": "markdown",
   "id": "db618597",
   "metadata": {
    "lines_to_next_cell": 2
   },
   "source": [
    "Next we define some mesh specific parameters"
   ]
  },
  {
   "cell_type": "code",
   "execution_count": null,
   "id": "48804e8a",
   "metadata": {},
   "outputs": [],
   "source": [
    "pi = np.pi\n",
    "epsilon_0 = 8.8541878128 * 10**-12\n",
    "mu_0 = 4 * pi * 10**-7\n",
    "\n",
    "# Radius of the wire and of the boundary of the domain\n",
    "radius_wire = 0.050\n",
    "radius_dom = 1\n",
    "\n",
    "# The smaller the mesh_factor, the finer is the mesh\n",
    "mesh_factor = 1.2\n",
    "\n",
    "# Mesh size inside the wire\n",
    "in_wire_size = mesh_factor * 7.0e-3\n",
    "\n",
    "# Mesh size at the boundary of the wire\n",
    "on_wire_size = mesh_factor * 3.0e-3\n",
    "\n",
    "# Mesh size in the background\n",
    "bkg_size = mesh_factor * 60.0e-3\n",
    "\n",
    "# Mesh size at the boundary\n",
    "boundary_size = mesh_factor * 30.0e-3\n",
    "\n",
    "# Tags for the subdomains\n",
    "au_tag = 1          # gold wire\n",
    "bkg_tag = 2         # background\n",
    "boundary_tag = 3    # boundary"
   ]
  },
  {
   "cell_type": "markdown",
   "id": "de02c7d4",
   "metadata": {},
   "source": [
    "We generate the mesh using GMSH and convert it to a\n",
    "`dolfinx.mesh.Mesh`."
   ]
  },
  {
   "cell_type": "code",
   "execution_count": null,
   "id": "9cf365af",
   "metadata": {},
   "outputs": [],
   "source": [
    "model = generate_mesh_wire(\n",
    "    radius_wire, radius_dom, in_wire_size, on_wire_size, bkg_size,\n",
    "    boundary_size, au_tag, bkg_tag, boundary_tag)\n",
    "\n",
    "domain, cell_tags, facet_tags = model_to_mesh(model, MPI.COMM_WORLD, 0, gdim=2)\n",
    "gmsh.finalize()\n",
    "MPI.COMM_WORLD.barrier()"
   ]
  },
  {
   "cell_type": "markdown",
   "id": "2bbe165c",
   "metadata": {},
   "source": [
    "The mesh is visualized with [PyVista](https://docs.pyvista.org/)"
   ]
  },
  {
   "cell_type": "code",
   "execution_count": null,
   "id": "e7466cbb",
   "metadata": {},
   "outputs": [],
   "source": [
    "if have_pyvista:\n",
    "    topology, cell_types, geometry = plot.create_vtk_mesh(domain, 2)\n",
    "    grid = pyvista.UnstructuredGrid(topology, cell_types, geometry)\n",
    "    pyvista.set_jupyter_backend(\"pythreejs\")\n",
    "    plotter = pyvista.Plotter()\n",
    "    num_local_cells = domain.topology.index_map(domain.topology.dim).size_local\n",
    "    grid.cell_data[\"Marker\"] = cell_tags.values[cell_tags.indices\n",
    "                                                < num_local_cells]\n",
    "    grid.set_active_scalars(\"Marker\")\n",
    "    plotter.add_mesh(grid, show_edges=True)\n",
    "    plotter.view_xy()\n",
    "    if not pyvista.OFF_SCREEN:\n",
    "        plotter.show()\n",
    "    else:\n",
    "        pyvista.start_xvfb()\n",
    "        figure = plotter.screenshot(\"wire_mesh.png\", window_size=[8000, 8000])"
   ]
  },
  {
   "cell_type": "markdown",
   "id": "4160ebbc",
   "metadata": {},
   "source": [
    "Now we define some other problem specific parameters:"
   ]
  },
  {
   "cell_type": "code",
   "execution_count": null,
   "id": "cd0b6076",
   "metadata": {},
   "outputs": [],
   "source": [
    "wl0 = 0.4  # Wavelength of the background field\n",
    "n_bkg = 1.33  # Background refractive index\n",
    "eps_bkg = n_bkg**2  # Background relative permittivity\n",
    "k0 = 2 * np.pi / wl0  # Wavevector of the background field\n",
    "theta = np.pi / 4  # Angle of incidence of the background field"
   ]
  },
  {
   "cell_type": "markdown",
   "id": "ffbf8dc0",
   "metadata": {},
   "source": [
    "We use a function space consisting of degree 3\n",
    "[Nedelec (first kind)](https://defelement.com/elements/nedelec1.html)\n",
    "elements to represent the electric field"
   ]
  },
  {
   "cell_type": "code",
   "execution_count": null,
   "id": "abf33078",
   "metadata": {},
   "outputs": [],
   "source": [
    "degree = 3\n",
    "curl_el = ufl.FiniteElement(\"N1curl\", domain.ufl_cell(), degree)\n",
    "V = fem.FunctionSpace(domain, curl_el)"
   ]
  },
  {
   "cell_type": "markdown",
   "id": "54413e68",
   "metadata": {},
   "source": [
    "Next, we can interpolate $\\mathbf{E}_b$ into the function space $V$:"
   ]
  },
  {
   "cell_type": "code",
   "execution_count": null,
   "id": "ac41cf32",
   "metadata": {},
   "outputs": [],
   "source": [
    "f = BackgroundElectricField(theta, n_bkg, k0)\n",
    "Eb = fem.Function(V)\n",
    "Eb.interpolate(f.eval)\n",
    "\n",
    "x = ufl.SpatialCoordinate(domain)\n",
    "r = radial_distance(x)\n",
    "\n",
    "# Create test and trial functions\n",
    "Es = ufl.TrialFunction(V)\n",
    "v = ufl.TestFunction(V)\n",
    "\n",
    "# Definition of 3d fields for cross and curl operations\n",
    "Es_3d = ufl.as_vector((Es[0], Es[1], 0))\n",
    "v_3d = ufl.as_vector((v[0], v[1], 0))\n",
    "\n",
    "# Measures for subdomains\n",
    "dx = ufl.Measure(\"dx\", domain, subdomain_data=cell_tags)\n",
    "ds = ufl.Measure(\"ds\", domain, subdomain_data=facet_tags)\n",
    "dDom = dx((au_tag, bkg_tag))\n",
    "dsbc = ds(boundary_tag)\n",
    "\n",
    "# Normal to the boundary\n",
    "n = ufl.FacetNormal(domain)\n",
    "n_3d = ufl.as_vector((n[0], n[1], 0))"
   ]
  },
  {
   "cell_type": "markdown",
   "id": "0e8a9f72",
   "metadata": {},
   "source": [
    "We turn our focus to the permittivity $\\varepsilon$.\n",
    "First, we define the relative permittivity $\\varepsilon_m$\n",
    "of the gold wire at $400nm$. This data can be found in\n",
    "[*Olmon et al. 2012*](https://doi.org/10.1103/PhysRevB.86.235147)\n",
    "or at [refractiveindex.info](\n",
    "https://refractiveindex.info/?shelf=main&book=Au&page=Olmon-sc\n",
    ")):"
   ]
  },
  {
   "cell_type": "code",
   "execution_count": null,
   "id": "b1b4540b",
   "metadata": {},
   "outputs": [],
   "source": [
    "eps_au = -1.0782 + 1j * 5.8089"
   ]
  },
  {
   "cell_type": "markdown",
   "id": "a6a1cb5e",
   "metadata": {},
   "source": [
    "We define a permittivity function $\\varepsilon$ that takes the value of the gold permittivity $\\varepsilon_m$\n",
    "for cells inside the wire, while it takes the value of the\n",
    "background permittivity otherwise:"
   ]
  },
  {
   "cell_type": "code",
   "execution_count": null,
   "id": "73ed7d1e",
   "metadata": {},
   "outputs": [],
   "source": [
    "D = fem.FunctionSpace(domain, (\"DG\", 0))\n",
    "eps = fem.Function(D)\n",
    "au_cells = cell_tags.find(au_tag)\n",
    "bkg_cells = cell_tags.find(bkg_tag)\n",
    "eps.x.array[au_cells] = np.full_like(au_cells, eps_au, dtype=np.complex128)\n",
    "eps.x.array[bkg_cells] = np.full_like(bkg_cells, eps_bkg, dtype=np.complex128)\n",
    "eps.x.scatter_forward()"
   ]
  },
  {
   "cell_type": "markdown",
   "id": "e0aaf4d1",
   "metadata": {},
   "source": [
    "Next we derive the weak formulation of the Maxwell's equation plus with scattering\n",
    "boundary conditions. First, we take the inner\n",
    "products of the equations with a complex test function $\\mathbf{v}$,\n",
    "and integrate the terms over the corresponding domains:\n",
    "\n",
    "$$\n",
    "\\begin{align}\n",
    "& \\int_{\\Omega}-\\nabla \\times( \\nabla \\times \\mathbf{E}_s) \\cdot\n",
    "\\bar{\\mathbf{v}}+\\varepsilon_{r} k_{0}^{2} \\mathbf{E}_s \\cdot\n",
    "\\bar{\\mathbf{v}}+k_{0}^{2}\\left(\\varepsilon_{r}-\\varepsilon_b\\right)\n",
    "\\mathbf{E}_b \\cdot \\bar{\\mathbf{v}}~\\mathrm{d}x \\\\ +& \\int_{\\partial \\Omega}\n",
    "(\\mathbf{n} \\times \\nabla \\times \\mathbf{E}_s) \\cdot \\bar{\\mathbf{v}}\n",
    "+\\left(j n_bk_{0}+\\frac{1}{2r}\\right) (\\mathbf{n} \\times \\mathbf{E}_s\n",
    "\\times \\mathbf{n}) \\cdot \\bar{\\mathbf{v}}~\\mathrm{d}s=0\n",
    "\\end{align}.\n",
    "$$\n",
    "\n",
    "By using $(\\nabla \\times \\mathbf{A}) \\cdot \\mathbf{B}=\\mathbf{A}\n",
    "\\cdot(\\nabla \\times \\mathbf{B})+\\nabla \\cdot(\\mathbf{A}\n",
    "\\times \\mathbf{B}),$\n",
    "we can change the first term into:\n",
    "\n",
    "$$\n",
    "\\begin{align}\n",
    "& \\int_{\\Omega}-\\nabla \\cdot(\\nabla\\times\\mathbf{E}_s \\times\n",
    "\\bar{\\mathbf{v}})-\\nabla \\times \\mathbf{E}_s \\cdot \\nabla\n",
    "\\times\\bar{\\mathbf{v}}+\\varepsilon_{r} k_{0}^{2} \\mathbf{E}_s\n",
    "\\cdot \\bar{\\mathbf{v}}+k_{0}^{2}\\left(\\varepsilon_{r}-\\varepsilon_b\\right)\n",
    "\\mathbf{E}_b \\cdot \\bar{\\mathbf{v}}~\\mathrm{dx} \\\\ +&\\int_{\\partial \\Omega}\n",
    "(\\mathbf{n} \\times \\nabla \\times \\mathbf{E}_s) \\cdot \\bar{\\mathbf{v}}\n",
    "+\\left(j n_bk_{0}+\\frac{1}{2r}\\right) (\\mathbf{n} \\times \\mathbf{E}_s\n",
    "\\times \\mathbf{n}) \\cdot \\bar{\\mathbf{v}}~\\mathrm{d}s=0,\n",
    "\\end{align}\n",
    "$$\n",
    "\n",
    "using the divergence theorem $\\int_\\Omega\\nabla\\cdot\\mathbf{F}~\\mathrm{d}x =\n",
    "\\int_{\\partial\\Omega} \\mathbf{F}\\cdot\\mathbf{n}~\\mathrm{d}s$, we can write:\n",
    "\n",
    "$$\n",
    "\\begin{align}\n",
    "& \\int_{\\Omega}-(\\nabla \\times \\mathbf{E}_s) \\cdot (\\nabla \\times\n",
    "\\bar{\\mathbf{v}})+\\varepsilon_{r} k_{0}^{2} \\mathbf{E}_s \\cdot\n",
    "\\bar{\\mathbf{v}}+k_{0}^{2}\\left(\\varepsilon_{r}-\\varepsilon_b\\right)\n",
    "\\mathbf{E}_b \\cdot \\bar{\\mathbf{v}}~\\mathrm{d}x \\\\ +&\\int_{\\partial \\Omega}\n",
    "-(\\nabla\\times\\mathbf{E}_s \\times \\bar{\\mathbf{v}})\\cdot\\mathbf{n}\n",
    "+ (\\mathbf{n} \\times \\nabla \\times \\mathbf{E}_s) \\cdot \\bar{\\mathbf{v}}\n",
    "+\\left(j n_bk_{0}+\\frac{1}{2r}\\right) (\\mathbf{n} \\times \\mathbf{E}_s\n",
    "\\times \\mathbf{n}) \\cdot \\bar{\\mathbf{v}}~\\mathrm{d}s=0.\n",
    "\\end{align}\n",
    "$$\n",
    "\n",
    "Cancelling $-(\\nabla\\times\\mathbf{E}_s \\times \\bar{\\mathbf{V}})\n",
    "\\cdot\\mathbf{n}$  and $\\mathbf{n} \\times \\nabla \\times \\mathbf{E}_s\n",
    "\\cdot \\bar{\\mathbf{V}}$ using the triple product rule $\\mathbf{A}\n",
    "\\cdot(\\mathbf{B} \\times \\mathbf{C})=\\mathbf{B} \\cdot(\\mathbf{C} \\times\n",
    "\\mathbf{A})=\\mathbf{C} \\cdot(\\mathbf{A} \\times \\mathbf{B})$, we get:\n",
    "\n",
    "$$\n",
    "\\begin{align}\n",
    "& \\int_{\\Omega}-(\\nabla \\times \\mathbf{E}_s) \\cdot (\\nabla \\times\n",
    "\\bar{\\mathbf{v}})+\\varepsilon_{r} k_{0}^{2} \\mathbf{E}_s \\cdot\n",
    "\\bar{\\mathbf{v}}+k_{0}^{2}\\left(\\varepsilon_{r}-\\varepsilon_b\\right)\n",
    "\\mathbf{E}_b \\cdot \\bar{\\mathbf{v}}~\\mathrm{d}x \\\\ +&\\int_{\\partial \\Omega}\n",
    "\\left(j n_bk_{0}+\\frac{1}{2r}\\right)( \\mathbf{n} \\times \\mathbf{E}_s \\times\n",
    "\\mathbf{n}) \\cdot \\bar{\\mathbf{v}} ~\\mathrm{d} s = 0.\n",
    "\\end{align}\n",
    "$$\n",
    "\n",
    "We use the [UFL](https://github.com/FEniCS/ufl/) to implement the residual"
   ]
  },
  {
   "cell_type": "code",
   "execution_count": null,
   "id": "34d30b22",
   "metadata": {},
   "outputs": [],
   "source": [
    "# Weak form\n",
    "F = - ufl.inner(ufl.curl(Es), ufl.curl(v)) * dDom \\\n",
    "    + eps * (k0**2) * ufl.inner(Es, v) * dDom \\\n",
    "    + (k0**2) * (eps - eps_bkg) * ufl.inner(Eb, v) * dDom \\\n",
    "    + (1j * k0 * n_bkg + 1 / (2 * r)) \\\n",
    "    * ufl.inner(ufl.cross(Es_3d, n_3d), ufl.cross(v_3d, n_3d)) * dsbc"
   ]
  },
  {
   "cell_type": "markdown",
   "id": "5356f8fc",
   "metadata": {},
   "source": [
    "We split the residual into a sesquilinear (lhs) and linear (rhs) form\n",
    "and solve the problem. We store the scattered field $\\mathbf{E}_s$ as\n",
    "`Esh`:"
   ]
  },
  {
   "cell_type": "code",
   "execution_count": null,
   "id": "9c3336e8",
   "metadata": {},
   "outputs": [],
   "source": [
    "a, L = ufl.lhs(F), ufl.rhs(F)\n",
    "problem = fem.petsc.LinearProblem(a, L, bcs=[], petsc_options={\n",
    "                                  \"ksp_type\": \"preonly\", \"pc_type\": \"lu\"})\n",
    "Esh = problem.solve()"
   ]
  },
  {
   "cell_type": "markdown",
   "id": "ec3e19de",
   "metadata": {},
   "source": [
    "We save the solution as an\n",
    "[ADIOS2 bp](https://adios2.readthedocs.io/en/latest/ecosystem/visualization.html)\n",
    "folder. In order to do so, we need to interpolate our solution discretized with Nedelec elements\n",
    "into a suitable discontinuous Lagrange space."
   ]
  },
  {
   "cell_type": "code",
   "execution_count": null,
   "id": "8c7cdeb9",
   "metadata": {},
   "outputs": [],
   "source": [
    "V_dg = fem.VectorFunctionSpace(domain, (\"DG\", degree))\n",
    "Esh_dg = fem.Function(V_dg)\n",
    "Esh_dg.interpolate(Esh)\n",
    "\n",
    "with VTXWriter(domain.comm, \"Esh.bp\", Esh_dg) as vtx:\n",
    "    vtx.write(0.0)"
   ]
  },
  {
   "cell_type": "markdown",
   "id": "883b1d43",
   "metadata": {},
   "source": [
    "We visualize the solution using PyVista.\n",
    "For more information about saving and visualizing vector fields\n",
    "discretized with Nedelec elements, check [this](\n",
    "https://docs.fenicsproject.org/dolfinx/main/python/demos/demo_interpolation-io.html)\n",
    "DOLFINx demo."
   ]
  },
  {
   "cell_type": "code",
   "execution_count": null,
   "id": "36e04de0",
   "metadata": {},
   "outputs": [],
   "source": [
    "if have_pyvista:\n",
    "    V_cells, V_types, V_x = plot.create_vtk_mesh(V_dg)\n",
    "    V_grid = pyvista.UnstructuredGrid(V_cells, V_types, V_x)\n",
    "    Esh_values = np.zeros((V_x.shape[0], 3), dtype=np.float64)\n",
    "    Esh_values[:, :domain.topology.dim] = \\\n",
    "        Esh_dg.x.array.reshape(V_x.shape[0], domain.topology.dim).real\n",
    "\n",
    "    V_grid.point_data[\"u\"] = Esh_values\n",
    "\n",
    "    pyvista.set_jupyter_backend(\"pythreejs\")\n",
    "    plotter = pyvista.Plotter()\n",
    "\n",
    "    plotter.add_text(\"magnitude\", font_size=12, color=\"black\")\n",
    "    plotter.add_mesh(V_grid.copy(), show_edges=True)\n",
    "    plotter.view_xy()\n",
    "    plotter.link_views()\n",
    "\n",
    "    if not pyvista.OFF_SCREEN:\n",
    "        plotter.show()\n",
    "    else:\n",
    "        pyvista.start_xvfb()\n",
    "        plotter.screenshot(\"Esh.png\", window_size=[800, 800])"
   ]
  },
  {
   "cell_type": "markdown",
   "id": "d77ba68a",
   "metadata": {},
   "source": [
    "Next we can calculate the total electric field\n",
    "$\\mathbf{E}=\\mathbf{E}_s+\\mathbf{E}_b$ and save it"
   ]
  },
  {
   "cell_type": "code",
   "execution_count": null,
   "id": "2349e046",
   "metadata": {},
   "outputs": [],
   "source": [
    "E = fem.Function(V)\n",
    "E.x.array[:] = Eb.x.array[:] + Esh.x.array[:]\n",
    "\n",
    "E_dg = fem.Function(V_dg)\n",
    "E_dg.interpolate(E)\n",
    "\n",
    "with VTXWriter(domain.comm, \"E.bp\", E_dg) as vtx:\n",
    "    vtx.write(0.0)"
   ]
  },
  {
   "cell_type": "markdown",
   "id": "d481dc72",
   "metadata": {},
   "source": [
    "We calculate the norm of the scattered field by using `dolfinx.fem.Expression`\n",
    "$$\n",
    "||\\mathbf{E}_s|| = \\sqrt{\\mathbf{E}_s\\cdot\\bar{\\mathbf{E}}_s}\n",
    "$$"
   ]
  },
  {
   "cell_type": "code",
   "execution_count": null,
   "id": "b5c53160",
   "metadata": {},
   "outputs": [],
   "source": [
    "lagr_el = ufl.FiniteElement(\"CG\", domain.ufl_cell(), 2)\n",
    "norm_func = ufl.sqrt(ufl.inner(Esh, Esh))\n",
    "V_normEsh = fem.FunctionSpace(domain, lagr_el)\n",
    "norm_expr = fem.Expression(norm_func, V_normEsh.element.interpolation_points())\n",
    "normEsh = fem.Function(V_normEsh)\n",
    "normEsh.interpolate(norm_expr)"
   ]
  },
  {
   "cell_type": "markdown",
   "id": "08c64539",
   "metadata": {},
   "source": [
    "We validate our numerical solution by computing the\n",
    "absorption, scattering and extinction efficiencies, which are\n",
    "quantities that define how much light is absorbed and scattered\n",
    "by the wire. First of all, we calculate the analytical efficiencies\n",
    "with the `calculate_analytical_efficiencies` function defined in a\n",
    "separate file:"
   ]
  },
  {
   "cell_type": "code",
   "execution_count": null,
   "id": "15bdd494",
   "metadata": {},
   "outputs": [],
   "source": [
    "# Calculation of analytical efficiencies\n",
    "q_abs_analyt, q_sca_analyt, q_ext_analyt = calculate_analytical_efficiencies(\n",
    "    eps_au, n_bkg, wl0, radius_wire)"
   ]
  },
  {
   "cell_type": "markdown",
   "id": "ec40dda3",
   "metadata": {},
   "source": [
    "Now we can calculate the numerical efficiencies. The formula for the\n",
    "absorption, scattering and extinction are:\n",
    "\n",
    "$$\n",
    "\\begin{align}\n",
    "& Q_{abs} = \\operatorname{Re}\\left(\\int_{\\Omega_{m}} \\frac{1}{2}\n",
    "  \\frac{\\operatorname{Im}(\\varepsilon_m)k_0}{Z_0n_b}\n",
    "  \\mathbf{E}\\cdot\\hat{\\mathbf{E}}dx\\right) \\\\\n",
    "& Q_{sca} = \\operatorname{Re}\\left(\\int_{\\partial\\Omega} \\frac{1}{2}\n",
    "  \\left(\\mathbf{E}_s\\times\\bar{\\mathbf{H}}_s\\right)\n",
    "  \\cdot\\mathbf{n}ds\\right)\\\\ \\\\\n",
    "& Q_{ext} = Q_{abs} + Q_{sca}, \\\\\n",
    "\\end{align}\n",
    "$$\n",
    "\n",
    "with $Z_0 = \\sqrt{\\frac{\\mu_0}{\\varepsilon_0}}$ being the\n",
    "vacuum impedance, and $\\mathbf{H}_s =\n",
    "-j\\frac{1}{Z_0k_0n_b}\\nabla\\times\\mathbf{E}_s$ being\n",
    "the scattered magnetic field.\n",
    "We can then normalize these values over the intensity of\n",
    "the electromagnetic field $I_0$ and the geometrical cross\n",
    "section of the wire,\n",
    "$\\sigma_{gcs} = 2r_w$:\n",
    "\n",
    "$$\n",
    "\\begin{align}\n",
    "& q_{abs} = \\frac{Q_{abs}}{I_0\\sigma_{gcs}} \\\\\n",
    "& q_{sca} = \\frac{Q_{sca}}{I_0\\sigma_{gcs}} \\\\\n",
    "& q_{ext} = q_{abs} + q_{sca}, \\\\\n",
    "\\end{align}\n",
    "$$\n",
    "\n",
    "In FEniCSx, we can calculate these values in the following way:"
   ]
  },
  {
   "cell_type": "code",
   "execution_count": null,
   "id": "b818e0c0",
   "metadata": {},
   "outputs": [],
   "source": [
    "# Vacuum impedance\n",
    "Z0 = np.sqrt(mu_0 / epsilon_0)\n",
    "\n",
    "# Magnetic field H\n",
    "Hsh_3d = -1j * curl_2d(Esh) / (Z0 * k0 * n_bkg)\n",
    "\n",
    "Esh_3d = ufl.as_vector((Esh[0], Esh[1], 0))\n",
    "E_3d = ufl.as_vector((E[0], E[1], 0))\n",
    "\n",
    "# Intensity of the electromagnetic fields I0 = 0.5*E0**2/Z0\n",
    "# E0 = np.sqrt(ax**2 + ay**2) = 1, see background_electric_field\n",
    "I0 = 0.5 / Z0\n",
    "\n",
    "# Geometrical cross section of the wire\n",
    "gcs = 2 * radius_wire\n",
    "\n",
    "# Quantities for the calculation of efficiencies\n",
    "P = 0.5 * ufl.inner(ufl.cross(Esh_3d, ufl.conj(Hsh_3d)), n_3d)\n",
    "Q = 0.5 * np.imag(eps_au) * k0 * (ufl.inner(E_3d, E_3d)) / Z0 / n_bkg\n",
    "\n",
    "# Define integration domain for the wire\n",
    "dAu = dx(au_tag)\n",
    "\n",
    "# Normalized absorption efficiency\n",
    "q_abs_fenics_proc = (fem.assemble_scalar(fem.form(Q * dAu)) / gcs / I0).real\n",
    "# Sum results from all MPI processes\n",
    "q_abs_fenics = domain.comm.allreduce(q_abs_fenics_proc, op=MPI.SUM)\n",
    "\n",
    "# Normalized scattering efficiency\n",
    "q_sca_fenics_proc = (fem.assemble_scalar(fem.form(P * dsbc)) / gcs / I0).real\n",
    "\n",
    "# Sum results from all MPI processes\n",
    "q_sca_fenics = domain.comm.allreduce(q_sca_fenics_proc, op=MPI.SUM)\n",
    "\n",
    "# Extinction efficiency\n",
    "q_ext_fenics = q_abs_fenics + q_sca_fenics\n",
    "\n",
    "# Error calculation\n",
    "err_abs = np.abs(q_abs_analyt - q_abs_fenics) / q_abs_analyt\n",
    "err_sca = np.abs(q_sca_analyt - q_sca_fenics) / q_sca_analyt\n",
    "err_ext = np.abs(q_ext_analyt - q_ext_fenics) / q_ext_analyt\n",
    "\n",
    "# Check if errors are smaller than 1%\n",
    "assert err_abs < 0.01\n",
    "assert err_sca < 0.01\n",
    "assert err_ext < 0.01\n",
    "\n",
    "if domain.comm.rank == 0:\n",
    "\n",
    "    print()\n",
    "    print(f\"The analytical absorption efficiency is {q_abs_analyt}\")\n",
    "    print(f\"The numerical absorption efficiency is {q_abs_fenics}\")\n",
    "    print(f\"The error is {err_abs*100}%\")\n",
    "    print()\n",
    "    print(f\"The analytical scattering efficiency is {q_sca_analyt}\")\n",
    "    print(f\"The numerical scattering efficiency is {q_sca_fenics}\")\n",
    "    print(f\"The error is {err_sca*100}%\")\n",
    "    print()\n",
    "    print(f\"The analytical extinction efficiency is {q_ext_analyt}\")\n",
    "    print(f\"The numerical extinction efficiency is {q_ext_fenics}\")\n",
    "    print(f\"The error is {err_ext*100}%\")"
   ]
  }
 ],
 "metadata": {
  "jupytext": {
   "formats": "ipynb,py:light"
  },
    "kernelspec": {
   "display_name": "Python 3 (DOLFINx complex)",
   "language": "python",
   "name": "python3-complex"
  },
  "language_info": {
   "codemirror_mode": {
    "name": "ipython",
    "version": 3
   },
   "file_extension": ".py",
   "mimetype": "text/x-python",
   "name": "python",
   "nbconvert_exporter": "python",
   "pygments_lexer": "ipython3",
   "version": "3.10.4"
  }
 },
 "nbformat": 4,
 "nbformat_minor": 5
}
