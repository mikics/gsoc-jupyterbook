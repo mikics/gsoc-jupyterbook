{
 "cells": [
  {
   "cell_type": "markdown",
   "id": "6a3dc5f0",
   "metadata": {},
   "source": [
    "# Calculation of analytical efficiencies\n",
    "\n",
    "Copyright (C) 2022 Michele Castriotta, Igor Baratta, Jørgen S. Dokken\n",
    "\n",
    "This file contains a function for the calculation of the\n",
    "absorption, scattering and extinction efficiencies of a wire\n",
    "being hit normally by a TM-polarized electromagnetic wave.\n",
    "\n",
    "The formula are taken from:\n",
    "Milton Kerker, \"The Scattering of Light and Other Electromagnetic Radiation\",\n",
    "Chapter 6, Elsevier, 1969.\n",
    "\n",
    "## Implementation\n",
    "First of all, let's define the parameters of the problem:\n",
    "\n",
    "- $n = \\sqrt{\\varepsilon}$: refractive index of the wire,\n",
    "- $n_b$: refractive index of the background medium,\n",
    "- $m = n/n_b$: relative refractive index of the wire,\n",
    "- $\\lambda_0$: wavelength of the electromagnetic wave,\n",
    "- $r_w$: radius of the cross-section of the wire,\n",
    "- $\\alpha = 2\\pi r_w n_b/\\lambda_0$.\n",
    "\n",
    "Now, let's define the $a_\\nu$ coefficients as:\n",
    "\n",
    "$$\n",
    "\\begin{equation}\n",
    "a_\\nu=\\frac{J_\\nu(\\alpha) J_\\nu^{\\prime}(m \\alpha)-m J_\\nu(m \\alpha)\n",
    "J_\\nu^{\\prime}(\\alpha)}{H_\\nu^{(2)}(\\alpha) J_\\nu^{\\prime}(m \\alpha)\n",
    "-m J_\\nu(m \\alpha) H_\\nu^{(2){\\prime}}(\\alpha)}\n",
    "\\end{equation}\n",
    "$$\n",
    "\n",
    "where:\n",
    "- $J_\\nu(x)$: $\\nu$-th order Bessel function of the first kind,\n",
    "- $J_\\nu^{\\prime}(x)$: first derivative with respect to $x$ of\n",
    "the $\\nu$-th order Bessel function of the first kind,\n",
    "- $H_\\nu^{(2)}(x)$: $\\nu$-th order Hankel function of the second kind,\n",
    "- $H_\\nu^{(2){\\prime}}(x)$: first derivative with respect to $x$ of\n",
    "the $\\nu$-th order Hankel function of the second kind.\n",
    "\n",
    "We can now calculate the scattering, extinction and absorption\n",
    "efficiencies as:\n",
    "\n",
    "$$\n",
    "\\begin{align}\n",
    "& q_{\\mathrm{sca}}=(2 / \\alpha)\\left[\\left|a_0\\right|^{2}\n",
    "+2 \\sum_{\\nu=1}^{\\infty}\\left|a_\\nu\\right|^{2}\\right] \\\\\n",
    "& q_{\\mathrm{ext}}=(2 / \\alpha) \\operatorname{Re}\\left[ a_0\n",
    "+2 \\sum_{\\nu=1}^{\\infty} a_\\nu\\right] \\\\\n",
    "& q_{\\mathrm{abs}} = q_{\\mathrm{ext}} - q_{\\mathrm{sca}}\n",
    "\\end{align}\n",
    "$$"
   ]
  },
  {
   "cell_type": "code",
   "execution_count": null,
   "id": "35b0f410",
   "metadata": {},
   "outputs": [],
   "source": [
    "import numpy as np\n",
    "from scipy.special import h2vp, hankel2, jv, jvp\n",
    "from typing import Tuple"
   ]
  },
  {
   "cell_type": "markdown",
   "id": "340cfab0",
   "metadata": {},
   "source": [
    "The functions that we import from `scipy.special` correspond to:\n",
    "\n",
    "- `jv(nu, x)` ⟷ $J_\\nu(x)$,\n",
    "- `jvp(nu, x, 1)` ⟷ $J_\\nu^{\\prime}(x)$,\n",
    "- `hankel2(nu, x)` ⟷ $H_\\nu^{(2)}(x)$,\n",
    "- `h2vp(nu, x, 1)` ⟷ $H_\\nu^{(2){\\prime}}(x)$.\n",
    "\n",
    "Next, we define a function for calculating the analytical efficiencies\n",
    "in Python. The inputs of the function are:\n",
    "\n",
    "- `eps` ⟷ $\\varepsilon$,\n",
    "- `n_bkg` ⟷ $n_b$,\n",
    "- `wl0` ⟷ $\\lambda_0$,\n",
    "- `radius_wire` ⟷ $r_w$.\n",
    "\n",
    "We also define a nested function for the calculation of $a_l$. For the\n",
    "final calculation of the efficiencies, the summation over the different\n",
    "orders of the Bessel functions is truncated at $\\nu=50$."
   ]
  },
  {
   "cell_type": "code",
   "execution_count": null,
   "id": "2be89317",
   "metadata": {},
   "outputs": [],
   "source": [
    "def compute_a(nu: int, m: complex, alpha: float) -> float:\n",
    "    J_nu_alpha = jv(nu, alpha)\n",
    "    J_nu_malpha = jv(nu, m * alpha)\n",
    "    J_nu_alpha_p = jvp(nu, alpha, 1)\n",
    "    J_nu_malpha_p = jvp(nu, m * alpha, 1)\n",
    "\n",
    "    H_nu_alpha = hankel2(nu, alpha)\n",
    "    H_nu_alpha_p = h2vp(nu, alpha, 1)\n",
    "\n",
    "    a_nu_num = J_nu_alpha * J_nu_malpha_p - m * J_nu_malpha * J_nu_alpha_p\n",
    "    a_nu_den = H_nu_alpha * J_nu_malpha_p - m * J_nu_malpha * H_nu_alpha_p\n",
    "    return a_nu_num / a_nu_den\n",
    "\n",
    "\n",
    "def calculate_analytical_efficiencies(eps: complex, n_bkg: float,\n",
    "                                      wl0: float, radius_wire: float,\n",
    "                                      num_n: int = 50) -> Tuple[float, float, float]:\n",
    "    m = np.sqrt(np.conj(eps)) / n_bkg\n",
    "    alpha = 2 * np.pi * radius_wire / wl0 * n_bkg\n",
    "    c = 2 / alpha\n",
    "    q_ext = c * np.real(compute_a(0, m, alpha))\n",
    "    q_sca = c * np.abs(compute_a(0, m, alpha))**2\n",
    "    for nu in range(1, num_n + 1):\n",
    "        q_ext += c * 2 * np.real(compute_a(nu, m, alpha))\n",
    "        q_sca += c * 2 * np.abs(compute_a(nu, m, alpha))**2\n",
    "    return q_ext - q_sca, q_sca, q_ext"
   ]
  }
 ],
 "metadata":  {
  "jupytext": {
   "formats": "ipynb,py:light"
  },
    "kernelspec": {
   "display_name": "Python 3 (DOLFINx complex)",
   "language": "python",
   "name": "python3-complex"
  },
  "language_info": {
   "codemirror_mode": {
    "name": "ipython",
    "version": 3
   },
   "file_extension": ".py",
   "mimetype": "text/x-python",
   "name": "python",
   "nbconvert_exporter": "python",
   "pygments_lexer": "ipython3",
   "version": "3.10.4"
  }
 },
 "nbformat": 4,
 "nbformat_minor": 5
}
