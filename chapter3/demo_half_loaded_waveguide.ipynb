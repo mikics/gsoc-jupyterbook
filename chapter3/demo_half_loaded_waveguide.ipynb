{
 "cells": [
  {
   "cell_type": "markdown",
   "id": "793962d2",
   "metadata": {},
   "source": [
    "# Mode analysis for a half-loaded rectangular waveguide"
   ]
  },
  {
   "cell_type": "markdown",
   "id": "dfd6b699",
   "metadata": {},
   "source": [
    "Copyright (C) 2022 Michele Castriotta, Igor Baratta, Jørgen S. Dokken\n",
    "\n",
    "This demo is implemented in one file, which shows how to:\n",
    "\n",
    "- Setup an eigenvalue problem for Maxwell's equations\n",
    "- Use SLEPc for solving eigenvalue problems in DOLFINx\n"
   ]
  },
  {
   "cell_type": "markdown",
   "id": "7999620a",
   "metadata": {},
   "source": [
    "## Equations, problem definition and implementation\n",
    "\n",
    "In this demo, we are going to show how to solve the eigenvalue problem\n",
    "associated with a half-loaded rectangular waveguide\n",
    "with perfect electric conducting walls.\n",
    "\n",
    "First of all, let's import the modules we need for solving the problem:"
   ]
  },
  {
   "cell_type": "code",
   "execution_count": null,
   "id": "e6687a80",
   "metadata": {},
   "outputs": [],
   "source": [
    "import numpy as np\n",
    "from slepc4py import SLEPc\n",
    "\n",
    "from analytical_modes import verify_mode\n",
    "\n",
    "from dolfinx import fem, io\n",
    "from dolfinx.mesh import (CellType, create_rectangle, exterior_facet_indices,\n",
    "                          locate_entities)\n",
    "from ufl import (FiniteElement, MixedElement, TestFunctions, TrialFunctions,\n",
    "                 curl, dx, grad, inner)\n",
    "\n",
    "from mpi4py import MPI\n",
    "from petsc4py.PETSc import ScalarType\n"
   ]
  },
  {
   "cell_type": "markdown",
   "id": "6c10fb06",
   "metadata": {},
   "source": [
    "Let's now define our domain. It is a rectangular domain\n",
    "with width $w$ and height $h = 0.45w$, with the dielectric medium filling\n",
    "the lower-half of the domain, with a height of $d=0.5h$."
   ]
  },
  {
   "cell_type": "code",
   "execution_count": null,
   "id": "6db4a4f4",
   "metadata": {},
   "outputs": [],
   "source": [
    "w = 1\n",
    "h = 0.45 * w\n",
    "d = 0.5 * h\n",
    "nx = 300\n",
    "ny = int(0.4 * nx)\n",
    "\n",
    "domain = create_rectangle(MPI.COMM_WORLD, np.array(\n",
    "    [[0, 0], [w, h]]), np.array([nx, ny]), CellType.quadrilateral)\n",
    "\n",
    "domain.topology.create_connectivity(\n",
    "    domain.topology.dim - 1, domain.topology.dim)"
   ]
  },
  {
   "cell_type": "markdown",
   "id": "b73a7365",
   "metadata": {},
   "source": [
    "Now we can define the dielectric permittivity $\\varepsilon_r$\n",
    "over the domain as $\\varepsilon_r = \\varepsilon_v = 1$ in the vacuum, and as\n",
    "$\\varepsilon_r = \\varepsilon_d = 2.45$ in the dielectric:"
   ]
  },
  {
   "cell_type": "code",
   "execution_count": null,
   "id": "976f95d9",
   "metadata": {},
   "outputs": [],
   "source": [
    "eps_v = 1\n",
    "eps_d = 2.45\n",
    "\n",
    "\n",
    "def Omega_d(x):\n",
    "    return x[1] <= d\n",
    "\n",
    "\n",
    "def Omega_v(x):\n",
    "    return x[1] >= d\n",
    "\n",
    "\n",
    "D = fem.FunctionSpace(domain, (\"DQ\", 0))\n",
    "eps = fem.Function(D)\n",
    "\n",
    "cells_v = locate_entities(domain, domain.topology.dim, Omega_v)\n",
    "cells_d = locate_entities(domain, domain.topology.dim, Omega_d)\n",
    "\n",
    "eps.x.array[cells_d] = np.full_like(cells_d, eps_d, dtype=ScalarType)\n",
    "eps.x.array[cells_v] = np.full_like(cells_v, eps_v, dtype=ScalarType)"
   ]
  },
  {
   "cell_type": "markdown",
   "id": "b8cb4bd5",
   "metadata": {},
   "source": [
    "In order to find the weak form of our problem, the starting point are\n",
    "Maxwell's equation and the perfect electric conductor condition on the\n",
    "waveguide wall:\n",
    "\n",
    "$$\n",
    "\\begin{align}\n",
    "&\\nabla \\times \\frac{1}{\\mu_{r}} \\nabla \\times \\mathbf{E}-k_{o}^{2}\n",
    "\\epsilon_{r} \\mathbf{E}=0 \\quad &\\text { in } \\Omega\\\\\n",
    "&\\hat{n}\\times\\mathbf{E} = 0 &\\text { on } \\Gamma\n",
    "\\end{align}\n",
    "$$\n",
    "\n",
    "with $k_0$ and $\\lambda_0 = 2\\pi/k_0$ being the wavevector and the\n",
    "wavelength, that we consider fixed at $\\lambda = h/0.2$. If we focus on\n",
    "non-magnetic material only, we can consider $\\mu_r=1$.\n",
    "\n",
    "Now we can assume a known dependence on $z$:\n",
    "\n",
    "$$\n",
    "\\mathbf{E}(x, y, z)=\\left[\\mathbf{E}_{t}(x, y)+\\hat{z} E_{z}(x, y)\\right]\n",
    "e^{-jk_z z}\n",
    "$$\n",
    "\n",
    "where $\\mathbf{E}_t$ is the component of the electric field transverse to the\n",
    "waveguide axis, and $E_z$ is the component  of the electric field parallel to\n",
    "the waveguide axis, and $k_z$ represents our complex propagation constant.\n",
    "\n",
    "In order to pose the problem as an eigenvalue problem, we need to make the\n",
    "following substitution:\n",
    "\n",
    "$$\n",
    "\\begin{align}\n",
    "& \\mathbf{e}_t = k_z\\mathbf{E}_t\\\\\n",
    "& e_z = -jE_z\n",
    "\\end{align}\n",
    "$$\n",
    "\n",
    "The final weak form can be written as:\n",
    "\n",
    "$$\n",
    "\\begin{aligned}\n",
    "F_{k_z}(\\mathbf{e})=\\int_{\\Omega} &\\left(\\nabla_{t} \\times\n",
    "\\mathbf{e}_{t}\\right) \\cdot\\left(\\nabla_{t} \\times\n",
    "\\bar{\\mathbf{v}}_{t}\\right) -k_{o}^{2} \\epsilon_{r} \\mathbf{e}_{t} \\cdot\n",
    "\\bar{\\mathbf{v}}_{t} \\\\\n",
    "&+k_z^{2}\\left[\\left(\\nabla_{t} e_{z}+\\mathbf{e}_{t}\\right)\n",
    "\\cdot\\left(\\nabla_{t} \\bar{v}_{z}+\\bar{\\mathbf{v}}_{t}\\right)-k_{o}^{2}\n",
    "\\epsilon_{r} e_{z} \\bar{v}_{z}\\right] \\mathrm{d} x = 0\n",
    "\\end{aligned}\n",
    "$$\n",
    "\n",
    "Or, in a more compact form, as:\n",
    "\n",
    "$$\n",
    "\\left[\\begin{array}{cc}\n",
    "A_{t t} & 0 \\\\\n",
    "0 & 0\n",
    "\\end{array}\\right]\\left\\{\\begin{array}{l}\n",
    "\\mathbf{e}_{t} \\\\\n",
    "e_{z}\n",
    "\\end{array}\\right\\}=-k_z^{2}\\left[\\begin{array}{ll}\n",
    "B_{t t} & B_{t z} \\\\\n",
    "B_{z t} & B_{z z}\n",
    "\\end{array}\\right]\\left\\{\\begin{array}{l}\n",
    "\\mathbf{e}_{t} \\\\\n",
    "e_{z}\n",
    "\\end{array}\\right\\}\n",
    "$$\n",
    "\n",
    "A problem of this kind is known as a generalized eigenvalue problem, where\n",
    "our eigenvalues are all the possible $ -k_z^2$. For\n",
    "further details about this problem, check Prof. Jin's\n",
    "*The Finite Element Method in Electromagnetics*.\n",
    "\n",
    "To write the weak form in DOLFINx, we need to specify our function space.\n",
    "For the $\\mathbf{e}_t$ field, we can use RTCE elements (the equivalent of\n",
    "Nedelec elements on quadrilateral cells), while for $e_z$ field we can use\n",
    "the Lagrange elements. In DOLFINx, this hybrid formulation is\n",
    "implemented with `MixedElement`:"
   ]
  },
  {
   "cell_type": "code",
   "execution_count": null,
   "id": "dfe76f61",
   "metadata": {},
   "outputs": [],
   "source": [
    "degree = 1\n",
    "RTCE = FiniteElement(\"RTCE\", domain.ufl_cell(), degree)\n",
    "Q = FiniteElement(\"Lagrange\", domain.ufl_cell(), degree)\n",
    "V = fem.FunctionSpace(domain, MixedElement(RTCE, Q))"
   ]
  },
  {
   "cell_type": "markdown",
   "id": "e884cb38",
   "metadata": {},
   "source": [
    "Now we can define our weak form:"
   ]
  },
  {
   "cell_type": "code",
   "execution_count": null,
   "id": "f329e454",
   "metadata": {},
   "outputs": [],
   "source": [
    "lmbd0 = h / 0.2\n",
    "k0 = 2 * np.pi / lmbd0\n",
    "\n",
    "et, ez = TrialFunctions(V)\n",
    "vt, vz = TestFunctions(V)\n",
    "\n",
    "a_tt = (inner(curl(et), curl(vt)) - k0\n",
    "        ** 2 * eps * inner(et, vt)) * dx\n",
    "b_tt = inner(et, vt) * dx\n",
    "b_tz = inner(et, grad(vz)) * dx\n",
    "b_zt = inner(grad(ez), vt) * dx\n",
    "b_zz = (inner(grad(ez), grad(vz)) - k0\n",
    "        ** 2 * eps * inner(ez, vz)) * dx\n",
    "\n",
    "a = fem.form(a_tt)\n",
    "b = fem.form(b_tt + b_tz + b_zt + b_zz)"
   ]
  },
  {
   "cell_type": "markdown",
   "id": "220b9095",
   "metadata": {},
   "source": [
    "Let's add the perfect electric conductor conditions on the waveguide wall:"
   ]
  },
  {
   "cell_type": "code",
   "execution_count": null,
   "id": "d082ff3a",
   "metadata": {},
   "outputs": [],
   "source": [
    "bc_facets = exterior_facet_indices(domain.topology)\n",
    "\n",
    "bc_dofs = fem.locate_dofs_topological(V, domain.topology.dim - 1, bc_facets)\n",
    "\n",
    "u_bc = fem.Function(V)\n",
    "with u_bc.vector.localForm() as loc:\n",
    "    loc.set(0)\n",
    "bc = fem.dirichletbc(u_bc, bc_dofs)"
   ]
  },
  {
   "cell_type": "markdown",
   "id": "b48b3d9a",
   "metadata": {},
   "source": [
    "Now we can solve the problem with SLEPc.\n",
    "First of all, we need to assemble our $A$ and $B$ matrices with PETSc\n",
    "in this way:"
   ]
  },
  {
   "cell_type": "code",
   "execution_count": null,
   "id": "3ab54cc2",
   "metadata": {},
   "outputs": [],
   "source": [
    "A = fem.petsc.assemble_matrix(a, bcs=[bc])\n",
    "A.assemble()\n",
    "B = fem.petsc.assemble_matrix(b, bcs=[bc])\n",
    "B.assemble()"
   ]
  },
  {
   "cell_type": "markdown",
   "id": "3b6d40a3",
   "metadata": {},
   "source": [
    "Now, we need to create the eigenvalue problem in SLEPc. Our problem is a\n",
    "linear eigenvalue problem, that in SLEPc is solved with the `EPS` module.\n",
    "We can call this module in the following way:"
   ]
  },
  {
   "cell_type": "code",
   "execution_count": null,
   "id": "eaa2fc0f",
   "metadata": {},
   "outputs": [],
   "source": [
    "eps = SLEPc.EPS().create(domain.comm)"
   ]
  },
  {
   "cell_type": "markdown",
   "id": "2ac6d215",
   "metadata": {},
   "source": [
    "We can pass to the `EPS` solver our matrices by using the `setOperators`\n",
    "routine:"
   ]
  },
  {
   "cell_type": "code",
   "execution_count": null,
   "id": "14f2e0e9",
   "metadata": {},
   "outputs": [],
   "source": [
    "eps.setOperators(A, B)"
   ]
  },
  {
   "cell_type": "markdown",
   "id": "5801efc1",
   "metadata": {},
   "source": [
    "If the matrices in the problem have known properties (e.g. hermiticity) we\n",
    "can use this information in SLEPc to accelerate the calculation with the\n",
    "`setProblemType` function. For this problem, there is no property that can be\n",
    "exploited, and therefore we define it as a generalized non-Hermitian\n",
    "eigenvalue problem with the `SLEPc.EPS.ProblemType.GNHEP` object:"
   ]
  },
  {
   "cell_type": "code",
   "execution_count": null,
   "id": "cefcacd9",
   "metadata": {},
   "outputs": [],
   "source": [
    "eps.setProblemType(SLEPc.EPS.ProblemType.GNHEP)"
   ]
  },
  {
   "cell_type": "code",
   "execution_count": null,
   "id": "dd7bc8c4",
   "metadata": {},
   "outputs": [],
   "source": [
    "# Next, we need to specify a tolerance for considering a solution\n",
    "# acceptable:\n",
    "tol = 1e-9\n",
    "eps.setTolerances(tol=tol)"
   ]
  },
  {
   "cell_type": "markdown",
   "id": "a58f4c50",
   "metadata": {},
   "source": [
    "Now we need to set the eigensolver for our problem, which is the algorithm\n",
    "we want to use to find the eigenvalues and the eigenvectors. SLEPc offers\n",
    "different methods, and also wrappers to external libraries. Some of these\n",
    "methods are only suitable for Hermitian or Generalized Hermitian problems\n",
    "and/or for eigenvalues in a certain portion of the spectrum. However, the\n",
    "choice of the method is a technical discussion that is out of the scope of\n",
    "this demo, and that is more comprehensively discussed in the\n",
    "[SLEPc documentation](https://slepc.upv.es/documentation/slepc.pdf).\n",
    "For our problem, we will use the Krylov-Schur method, which we can set by\n",
    "calling the `setType` function:"
   ]
  },
  {
   "cell_type": "code",
   "execution_count": null,
   "id": "edc559f5",
   "metadata": {},
   "outputs": [],
   "source": [
    "eps.setType(SLEPc.EPS.Type.KRYLOVSCHUR)"
   ]
  },
  {
   "cell_type": "markdown",
   "id": "06ec9f57",
   "metadata": {},
   "source": [
    "In order to accelerate the calculation of our solutions,\n",
    "we can also use spectral transformation, which maps the\n",
    "original eigenvalues into another position of the spectrum\n",
    "without affecting the eigenvectors. In our case,\n",
    "we can use the shift-and-invert transformation with\n",
    "the `SLEPc.ST.Type.SINVERT` object:"
   ]
  },
  {
   "cell_type": "code",
   "execution_count": null,
   "id": "ca73c21d",
   "metadata": {},
   "outputs": [],
   "source": [
    "# Get ST context from eps\n",
    "st = eps.getST()\n",
    "\n",
    "# Set shift-and-invert transformation\n",
    "st.setType(SLEPc.ST.Type.SINVERT)"
   ]
  },
  {
   "cell_type": "markdown",
   "id": "07c7ed64",
   "metadata": {},
   "source": [
    "The spectral transformation needs a target value for the\n",
    "eigenvalues we are looking at to perform the\n",
    "spectral transformation. Since the eigenvalues for our\n",
    "problem can be complex numbers, we need to specify\n",
    "whether we are searching for specific values in the real part,\n",
    "in the imaginary part, or in the magnitude. In our case, we are\n",
    "interested in propagating modes, and therefore in real $k_z$. For\n",
    "this reason, we can specify with the `setWhichEigenpairs` function\n",
    "that our target value will refer to the real part of the eigenvalue,\n",
    "with the `SLEPc.EPS.Which.TARGET_REAL` object:"
   ]
  },
  {
   "cell_type": "code",
   "execution_count": null,
   "id": "b938b109",
   "metadata": {},
   "outputs": [],
   "source": [
    "eps.setWhichEigenpairs(SLEPc.EPS.Which.TARGET_REAL)"
   ]
  },
  {
   "cell_type": "markdown",
   "id": "8393d125",
   "metadata": {},
   "source": [
    "For specifying the target value, we can use the `setTarget` function.\n",
    "Even though we cannot know a good target value a priori, we can guess\n",
    "that $k_z$ will be quite close to $k_0$ in value, for instance\n",
    "$k_z = 0.5k_0^2$.\n",
    "Therefore, we can set a target value of $-(0.5k_0^2)$:"
   ]
  },
  {
   "cell_type": "code",
   "execution_count": null,
   "id": "38cc981f",
   "metadata": {},
   "outputs": [],
   "source": [
    "eps.setTarget(-(0.5 * k0)**2)"
   ]
  },
  {
   "cell_type": "markdown",
   "id": "081beb6c",
   "metadata": {},
   "source": [
    "Then, we need to define the number of eigenvalues we want to calculate.\n",
    "We can do this with the `setDimensions` function, where we specify that\n",
    "we are searching for just one eigenvalue:"
   ]
  },
  {
   "cell_type": "code",
   "execution_count": null,
   "id": "6bc39cd5",
   "metadata": {},
   "outputs": [],
   "source": [
    "eps.setDimensions(nev=1)"
   ]
  },
  {
   "cell_type": "markdown",
   "id": "c9f062b5",
   "metadata": {},
   "source": [
    "We can finally solve the problem with the `solve` function.\n",
    "To gain a deeper insight over the simulation, we can get an\n",
    "output message by SLEPc by calling the `view` and `errorView`\n",
    "function:"
   ]
  },
  {
   "cell_type": "code",
   "execution_count": null,
   "id": "7175c3c1",
   "metadata": {},
   "outputs": [],
   "source": [
    "eps.solve()\n",
    "eps.view()\n",
    "eps.errorView()"
   ]
  },
  {
   "cell_type": "markdown",
   "id": "b3979aa7",
   "metadata": {},
   "source": [
    "Now we can get the eigenvalues and eigenvectors calculated by SLEPc:"
   ]
  },
  {
   "cell_type": "code",
   "execution_count": null,
   "id": "d2465d5a",
   "metadata": {},
   "outputs": [],
   "source": [
    "# Save the eigenvalues i\n",
    "vals = [(i, np.sqrt(-eps.getEigenvalue(i))) for i in range(eps.getConverged())]\n",
    "\n",
    "vals.sort(key=lambda x: x[1].real)\n",
    "\n",
    "eh = fem.Function(V)\n",
    "\n",
    "kz_list = []\n",
    "\n",
    "for i, kz in vals:\n",
    "\n",
    "    # Save eigenvector in eh\n",
    "    eps.getEigenpair(i, eh.vector)\n",
    "\n",
    "    # Compute error for i-th eigenvalue\n",
    "    error = eps.computeError(i, SLEPc.EPS.ErrorType.RELATIVE)\n",
    "\n",
    "    # Verify, save and visualize solution\n",
    "    if error < tol and np.isclose(kz.imag, 0, atol=tol):\n",
    "\n",
    "        kz_list.append(kz)\n",
    "\n",
    "        # Verify if kz satisfy the analytical equations for the modes\n",
    "        assert verify_mode(kz, w, h, d, lmbd0, eps_d, eps_v, threshold=1e-4)\n",
    "\n",
    "        print(f\"eigenvalue: {-kz**2}\")\n",
    "        print(f\"kz: {kz}\")\n",
    "        print(f\"kz/k0: {kz/k0}\")\n",
    "\n",
    "        eh.x.scatter_forward()\n",
    "\n",
    "        eth, ezh = eh.split()\n",
    "\n",
    "        # Transform eth, ezh into Et and Ez\n",
    "        eth.x.array[:] = eth.x.array[:] / kz\n",
    "        ezh.x.array[:] = ezh.x.array[:] * 1j\n",
    "\n",
    "        V_dg = fem.VectorFunctionSpace(domain, (\"DQ\", degree))\n",
    "        Et_dg = fem.Function(V_dg)\n",
    "        Et_dg.interpolate(eth)\n",
    "\n",
    "        with io.VTXWriter(domain.comm, f\"sols/Et_{i}.bp\", Et_dg) as f:\n",
    "            f.write(0.0)\n",
    "\n",
    "        with io.VTXWriter(domain.comm, f\"sols/Ez_{i}.bp\", ezh) as f:\n",
    "            f.write(0.0)"
   ]
  }
 ],
 "metadata": {
  "jupytext": {
   "formats": "ipynb,py:light"
  },
    "kernelspec": {
   "display_name": "Python 3 (DOLFINx complex)",
   "language": "python",
   "name": "python3-complex"
  },
  "language_info": {
   "codemirror_mode": {
    "name": "ipython",
    "version": 3
   },
   "file_extension": ".py",
   "mimetype": "text/x-python",
   "name": "python",
   "nbconvert_exporter": "python",
   "pygments_lexer": "ipython3",
   "version": "3.10.4"
  }
 },
 "nbformat": 4,
 "nbformat_minor": 5
}
